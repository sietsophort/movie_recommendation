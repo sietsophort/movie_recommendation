{
  "cells": [
    {
      "cell_type": "markdown",
      "metadata": {
        "colab_type": "text",
        "id": "KiqfWFyTM8G7"
      },
      "source": [
        "This method uses the content based approach to include the user's genre preference and recommends movies  similar to user's highly rated movies."
      ]
    },
    {
      "cell_type": "code",
      "execution_count": 34,
      "metadata": {
        "colab": {},
        "colab_type": "code",
        "id": "0uqnVl_sM8kO"
      },
      "outputs": [],
      "source": [
        "import numpy as np\n",
        "import pandas as pd\n",
        "import matplotlib.pyplot as plt\n",
        "\n",
        "from ast import literal_eval\n",
        "from sklearn.feature_extraction.text import TfidfVectorizer, CountVectorizer\n",
        "from sklearn.metrics.pairwise import linear_kernel, cosine_similarity"
      ]
    },
    {
      "cell_type": "code",
      "execution_count": 35,
      "metadata": {
        "colab": {},
        "colab_type": "code",
        "id": "CG_PSqWkMxwA"
      },
      "outputs": [],
      "source": [
        "# Load movie data\n",
        "movies = pd.read_csv(\"../../dataset/tmdb_movies.csv\")#, converters={\"genres\": literal_eval, \"tag\": literal_eval})"
      ]
    },
    {
      "cell_type": "code",
      "execution_count": 36,
      "metadata": {
        "colab": {},
        "colab_type": "code",
        "id": "ZxJmf1QpMxwC",
        "outputId": "b31ddba5-ab8f-4cae-be15-6f0f360bd61c"
      },
      "outputs": [
        {
          "data": {
            "text/html": [
              "<div>\n",
              "<style scoped>\n",
              "    .dataframe tbody tr th:only-of-type {\n",
              "        vertical-align: middle;\n",
              "    }\n",
              "\n",
              "    .dataframe tbody tr th {\n",
              "        vertical-align: top;\n",
              "    }\n",
              "\n",
              "    .dataframe thead th {\n",
              "        text-align: right;\n",
              "    }\n",
              "</style>\n",
              "<table border=\"1\" class=\"dataframe\">\n",
              "  <thead>\n",
              "    <tr style=\"text-align: right;\">\n",
              "      <th></th>\n",
              "      <th>budget</th>\n",
              "      <th>genres</th>\n",
              "      <th>homepage</th>\n",
              "      <th>id</th>\n",
              "      <th>keywords</th>\n",
              "      <th>original_language</th>\n",
              "      <th>original_title</th>\n",
              "      <th>overview</th>\n",
              "      <th>popularity</th>\n",
              "      <th>production_companies</th>\n",
              "      <th>production_countries</th>\n",
              "      <th>release_date</th>\n",
              "      <th>revenue</th>\n",
              "      <th>runtime</th>\n",
              "      <th>spoken_languages</th>\n",
              "      <th>status</th>\n",
              "      <th>tagline</th>\n",
              "      <th>title</th>\n",
              "      <th>vote_average</th>\n",
              "      <th>vote_count</th>\n",
              "    </tr>\n",
              "  </thead>\n",
              "  <tbody>\n",
              "    <tr>\n",
              "      <th>0</th>\n",
              "      <td>237000000</td>\n",
              "      <td>[{\"id\": 28, \"name\": \"Action\"}, {\"id\": 12, \"nam...</td>\n",
              "      <td>http://www.avatarmovie.com/</td>\n",
              "      <td>19995</td>\n",
              "      <td>[{\"id\": 1463, \"name\": \"culture clash\"}, {\"id\":...</td>\n",
              "      <td>en</td>\n",
              "      <td>Avatar</td>\n",
              "      <td>In the 22nd century, a paraplegic Marine is di...</td>\n",
              "      <td>150.437577</td>\n",
              "      <td>[{\"name\": \"Ingenious Film Partners\", \"id\": 289...</td>\n",
              "      <td>[{\"iso_3166_1\": \"US\", \"name\": \"United States o...</td>\n",
              "      <td>2009-12-10</td>\n",
              "      <td>2787965087</td>\n",
              "      <td>162.0</td>\n",
              "      <td>[{\"iso_639_1\": \"en\", \"name\": \"English\"}, {\"iso...</td>\n",
              "      <td>Released</td>\n",
              "      <td>Enter the World of Pandora.</td>\n",
              "      <td>Avatar</td>\n",
              "      <td>7.2</td>\n",
              "      <td>11800</td>\n",
              "    </tr>\n",
              "    <tr>\n",
              "      <th>1</th>\n",
              "      <td>300000000</td>\n",
              "      <td>[{\"id\": 12, \"name\": \"Adventure\"}, {\"id\": 14, \"...</td>\n",
              "      <td>http://disney.go.com/disneypictures/pirates/</td>\n",
              "      <td>285</td>\n",
              "      <td>[{\"id\": 270, \"name\": \"ocean\"}, {\"id\": 726, \"na...</td>\n",
              "      <td>en</td>\n",
              "      <td>Pirates of the Caribbean: At World's End</td>\n",
              "      <td>Captain Barbossa, long believed to be dead, ha...</td>\n",
              "      <td>139.082615</td>\n",
              "      <td>[{\"name\": \"Walt Disney Pictures\", \"id\": 2}, {\"...</td>\n",
              "      <td>[{\"iso_3166_1\": \"US\", \"name\": \"United States o...</td>\n",
              "      <td>2007-05-19</td>\n",
              "      <td>961000000</td>\n",
              "      <td>169.0</td>\n",
              "      <td>[{\"iso_639_1\": \"en\", \"name\": \"English\"}]</td>\n",
              "      <td>Released</td>\n",
              "      <td>At the end of the world, the adventure begins.</td>\n",
              "      <td>Pirates of the Caribbean: At World's End</td>\n",
              "      <td>6.9</td>\n",
              "      <td>4500</td>\n",
              "    </tr>\n",
              "    <tr>\n",
              "      <th>2</th>\n",
              "      <td>245000000</td>\n",
              "      <td>[{\"id\": 28, \"name\": \"Action\"}, {\"id\": 12, \"nam...</td>\n",
              "      <td>http://www.sonypictures.com/movies/spectre/</td>\n",
              "      <td>206647</td>\n",
              "      <td>[{\"id\": 470, \"name\": \"spy\"}, {\"id\": 818, \"name...</td>\n",
              "      <td>en</td>\n",
              "      <td>Spectre</td>\n",
              "      <td>A cryptic message from Bond’s past sends him o...</td>\n",
              "      <td>107.376788</td>\n",
              "      <td>[{\"name\": \"Columbia Pictures\", \"id\": 5}, {\"nam...</td>\n",
              "      <td>[{\"iso_3166_1\": \"GB\", \"name\": \"United Kingdom\"...</td>\n",
              "      <td>2015-10-26</td>\n",
              "      <td>880674609</td>\n",
              "      <td>148.0</td>\n",
              "      <td>[{\"iso_639_1\": \"fr\", \"name\": \"Fran\\u00e7ais\"},...</td>\n",
              "      <td>Released</td>\n",
              "      <td>A Plan No One Escapes</td>\n",
              "      <td>Spectre</td>\n",
              "      <td>6.3</td>\n",
              "      <td>4466</td>\n",
              "    </tr>\n",
              "    <tr>\n",
              "      <th>3</th>\n",
              "      <td>250000000</td>\n",
              "      <td>[{\"id\": 28, \"name\": \"Action\"}, {\"id\": 80, \"nam...</td>\n",
              "      <td>http://www.thedarkknightrises.com/</td>\n",
              "      <td>49026</td>\n",
              "      <td>[{\"id\": 849, \"name\": \"dc comics\"}, {\"id\": 853,...</td>\n",
              "      <td>en</td>\n",
              "      <td>The Dark Knight Rises</td>\n",
              "      <td>Following the death of District Attorney Harve...</td>\n",
              "      <td>112.312950</td>\n",
              "      <td>[{\"name\": \"Legendary Pictures\", \"id\": 923}, {\"...</td>\n",
              "      <td>[{\"iso_3166_1\": \"US\", \"name\": \"United States o...</td>\n",
              "      <td>2012-07-16</td>\n",
              "      <td>1084939099</td>\n",
              "      <td>165.0</td>\n",
              "      <td>[{\"iso_639_1\": \"en\", \"name\": \"English\"}]</td>\n",
              "      <td>Released</td>\n",
              "      <td>The Legend Ends</td>\n",
              "      <td>The Dark Knight Rises</td>\n",
              "      <td>7.6</td>\n",
              "      <td>9106</td>\n",
              "    </tr>\n",
              "    <tr>\n",
              "      <th>4</th>\n",
              "      <td>260000000</td>\n",
              "      <td>[{\"id\": 28, \"name\": \"Action\"}, {\"id\": 12, \"nam...</td>\n",
              "      <td>http://movies.disney.com/john-carter</td>\n",
              "      <td>49529</td>\n",
              "      <td>[{\"id\": 818, \"name\": \"based on novel\"}, {\"id\":...</td>\n",
              "      <td>en</td>\n",
              "      <td>John Carter</td>\n",
              "      <td>John Carter is a war-weary, former military ca...</td>\n",
              "      <td>43.926995</td>\n",
              "      <td>[{\"name\": \"Walt Disney Pictures\", \"id\": 2}]</td>\n",
              "      <td>[{\"iso_3166_1\": \"US\", \"name\": \"United States o...</td>\n",
              "      <td>2012-03-07</td>\n",
              "      <td>284139100</td>\n",
              "      <td>132.0</td>\n",
              "      <td>[{\"iso_639_1\": \"en\", \"name\": \"English\"}]</td>\n",
              "      <td>Released</td>\n",
              "      <td>Lost in our world, found in another.</td>\n",
              "      <td>John Carter</td>\n",
              "      <td>6.1</td>\n",
              "      <td>2124</td>\n",
              "    </tr>\n",
              "  </tbody>\n",
              "</table>\n",
              "</div>"
            ],
            "text/plain": [
              "      budget                                             genres   \n",
              "0  237000000  [{\"id\": 28, \"name\": \"Action\"}, {\"id\": 12, \"nam...  \\\n",
              "1  300000000  [{\"id\": 12, \"name\": \"Adventure\"}, {\"id\": 14, \"...   \n",
              "2  245000000  [{\"id\": 28, \"name\": \"Action\"}, {\"id\": 12, \"nam...   \n",
              "3  250000000  [{\"id\": 28, \"name\": \"Action\"}, {\"id\": 80, \"nam...   \n",
              "4  260000000  [{\"id\": 28, \"name\": \"Action\"}, {\"id\": 12, \"nam...   \n",
              "\n",
              "                                       homepage      id   \n",
              "0                   http://www.avatarmovie.com/   19995  \\\n",
              "1  http://disney.go.com/disneypictures/pirates/     285   \n",
              "2   http://www.sonypictures.com/movies/spectre/  206647   \n",
              "3            http://www.thedarkknightrises.com/   49026   \n",
              "4          http://movies.disney.com/john-carter   49529   \n",
              "\n",
              "                                            keywords original_language   \n",
              "0  [{\"id\": 1463, \"name\": \"culture clash\"}, {\"id\":...                en  \\\n",
              "1  [{\"id\": 270, \"name\": \"ocean\"}, {\"id\": 726, \"na...                en   \n",
              "2  [{\"id\": 470, \"name\": \"spy\"}, {\"id\": 818, \"name...                en   \n",
              "3  [{\"id\": 849, \"name\": \"dc comics\"}, {\"id\": 853,...                en   \n",
              "4  [{\"id\": 818, \"name\": \"based on novel\"}, {\"id\":...                en   \n",
              "\n",
              "                             original_title   \n",
              "0                                    Avatar  \\\n",
              "1  Pirates of the Caribbean: At World's End   \n",
              "2                                   Spectre   \n",
              "3                     The Dark Knight Rises   \n",
              "4                               John Carter   \n",
              "\n",
              "                                            overview  popularity   \n",
              "0  In the 22nd century, a paraplegic Marine is di...  150.437577  \\\n",
              "1  Captain Barbossa, long believed to be dead, ha...  139.082615   \n",
              "2  A cryptic message from Bond’s past sends him o...  107.376788   \n",
              "3  Following the death of District Attorney Harve...  112.312950   \n",
              "4  John Carter is a war-weary, former military ca...   43.926995   \n",
              "\n",
              "                                production_companies   \n",
              "0  [{\"name\": \"Ingenious Film Partners\", \"id\": 289...  \\\n",
              "1  [{\"name\": \"Walt Disney Pictures\", \"id\": 2}, {\"...   \n",
              "2  [{\"name\": \"Columbia Pictures\", \"id\": 5}, {\"nam...   \n",
              "3  [{\"name\": \"Legendary Pictures\", \"id\": 923}, {\"...   \n",
              "4        [{\"name\": \"Walt Disney Pictures\", \"id\": 2}]   \n",
              "\n",
              "                                production_countries release_date     revenue   \n",
              "0  [{\"iso_3166_1\": \"US\", \"name\": \"United States o...   2009-12-10  2787965087  \\\n",
              "1  [{\"iso_3166_1\": \"US\", \"name\": \"United States o...   2007-05-19   961000000   \n",
              "2  [{\"iso_3166_1\": \"GB\", \"name\": \"United Kingdom\"...   2015-10-26   880674609   \n",
              "3  [{\"iso_3166_1\": \"US\", \"name\": \"United States o...   2012-07-16  1084939099   \n",
              "4  [{\"iso_3166_1\": \"US\", \"name\": \"United States o...   2012-03-07   284139100   \n",
              "\n",
              "   runtime                                   spoken_languages    status   \n",
              "0    162.0  [{\"iso_639_1\": \"en\", \"name\": \"English\"}, {\"iso...  Released  \\\n",
              "1    169.0           [{\"iso_639_1\": \"en\", \"name\": \"English\"}]  Released   \n",
              "2    148.0  [{\"iso_639_1\": \"fr\", \"name\": \"Fran\\u00e7ais\"},...  Released   \n",
              "3    165.0           [{\"iso_639_1\": \"en\", \"name\": \"English\"}]  Released   \n",
              "4    132.0           [{\"iso_639_1\": \"en\", \"name\": \"English\"}]  Released   \n",
              "\n",
              "                                          tagline   \n",
              "0                     Enter the World of Pandora.  \\\n",
              "1  At the end of the world, the adventure begins.   \n",
              "2                           A Plan No One Escapes   \n",
              "3                                 The Legend Ends   \n",
              "4            Lost in our world, found in another.   \n",
              "\n",
              "                                      title  vote_average  vote_count  \n",
              "0                                    Avatar           7.2       11800  \n",
              "1  Pirates of the Caribbean: At World's End           6.9        4500  \n",
              "2                                   Spectre           6.3        4466  \n",
              "3                     The Dark Knight Rises           7.6        9106  \n",
              "4                               John Carter           6.1        2124  "
            ]
          },
          "execution_count": 36,
          "metadata": {},
          "output_type": "execute_result"
        }
      ],
      "source": [
        "movies.head()"
      ]
    },
    {
      "cell_type": "code",
      "execution_count": 37,
      "metadata": {
        "colab": {},
        "colab_type": "code",
        "id": "BUjgi7BJMxwF",
        "outputId": "ee954399-b896-4694-b56c-18b11eeeea37"
      },
      "outputs": [
        {
          "data": {
            "text/plain": [
              "(4803, 20)"
            ]
          },
          "execution_count": 37,
          "metadata": {},
          "output_type": "execute_result"
        }
      ],
      "source": [
        "movies.shape"
      ]
    },
    {
      "cell_type": "code",
      "execution_count": 38,
      "metadata": {
        "colab": {},
        "colab_type": "code",
        "id": "4Hz8u32RMxwI"
      },
      "outputs": [],
      "source": [
        "movies['tagline'] = movies['tagline'].fillna('')\n",
        "movies['description'] = movies['overview'] + movies['tagline']\n",
        "movies['description'] = movies['description'].fillna('')"
      ]
    },
    {
      "cell_type": "code",
      "execution_count": 39,
      "metadata": {
        "colab": {},
        "colab_type": "code",
        "id": "puPAowaOMxwK",
        "scrolled": true
      },
      "outputs": [],
      "source": [
        "tf = TfidfVectorizer(analyzer='word', ngram_range=(1, 2), min_df=0, stop_words='english')\n",
        "tfidf_matrix = tf.fit_transform(movies['description'])"
      ]
    },
    {
      "cell_type": "code",
      "execution_count": 40,
      "metadata": {
        "colab": {},
        "colab_type": "code",
        "id": "kRhiRNTMMxwN",
        "outputId": "8cfce82f-e7ae-404f-c17f-46ccb12100d4"
      },
      "outputs": [
        {
          "data": {
            "text/plain": [
              "(4803, 149317)"
            ]
          },
          "execution_count": 40,
          "metadata": {},
          "output_type": "execute_result"
        }
      ],
      "source": [
        "tfidf_matrix.shape"
      ]
    },
    {
      "cell_type": "code",
      "execution_count": 41,
      "metadata": {
        "colab": {},
        "colab_type": "code",
        "id": "7DCfM9i-MxwP"
      },
      "outputs": [],
      "source": [
        "# http://scikit-learn.org/stable/modules/metrics.html#linear-kernel\n",
        "cosine_sim = linear_kernel(tfidf_matrix, tfidf_matrix)"
      ]
    },
    {
      "cell_type": "code",
      "execution_count": 42,
      "metadata": {
        "colab": {},
        "colab_type": "code",
        "id": "5L4To6CSMxwR",
        "outputId": "1c1b9106-8498-405a-aca5-5c85e0f1a3ef"
      },
      "outputs": [
        {
          "data": {
            "text/plain": [
              "title\n",
              "Avatar                                      0\n",
              "Pirates of the Caribbean: At World's End    1\n",
              "dtype: int64"
            ]
          },
          "execution_count": 42,
          "metadata": {},
          "output_type": "execute_result"
        }
      ],
      "source": [
        "movies = movies.reset_index()\n",
        "titles = movies['title']\n",
        "indices = pd.Series(movies.index, index=movies['title'])\n",
        "indices.head(2)"
      ]
    },
    {
      "cell_type": "code",
      "execution_count": 43,
      "metadata": {
        "colab": {},
        "colab_type": "code",
        "id": "996NqbZdMxwT"
      },
      "outputs": [],
      "source": [
        "def get_recommendations(title):\n",
        "    idx = indices[title]\n",
        "    if type(idx) != np.int64:\n",
        "        if len(idx)>1:\n",
        "            print(\"ALERT: Multiple values\")\n",
        "            idx = idx[0]\n",
        "    sim_scores = list(enumerate(cosine_sim[idx]))\n",
        "    sim_scores = sorted(sim_scores, key=lambda x: x[1], reverse=True)\n",
        "    sim_scores = sim_scores[1:31]\n",
        "    movie_indices = [i[0] for i in sim_scores]\n",
        "    return titles.iloc[movie_indices]"
      ]
    },
    {
      "cell_type": "code",
      "execution_count": 44,
      "metadata": {
        "colab": {},
        "colab_type": "code",
        "id": "Z1SL8Pw_MxwV",
        "outputId": "e4738a72-911a-4691-b8dc-cda1b5d80480"
      },
      "outputs": [
        {
          "data": {
            "text/plain": [
              "3                         The Dark Knight Rises\n",
              "299                              Batman Forever\n",
              "428                              Batman Returns\n",
              "3854    Batman: The Dark Knight Returns, Part 2\n",
              "1359                                     Batman\n",
              "2507                                  Slow Burn\n",
              "1181                                        JFK\n",
              "119                               Batman Begins\n",
              "879                         Law Abiding Citizen\n",
              "205          Sherlock Holmes: A Game of Shadows\n",
              "9            Batman v Superman: Dawn of Justice\n",
              "2193                       Secret in Their Eyes\n",
              "210                              Batman & Robin\n",
              "2020                                 The Rookie\n",
              "58                                  Rush Hour 3\n",
              "2207                                  12 Rounds\n",
              "4135            Gangster's Paradise: Jerusalema\n",
              "2692                                    Thinner\n",
              "3725                                The Sweeney\n",
              "506                             Despicable Me 2\n",
              "2464                     The Master of Disguise\n",
              "2987                           The Mighty Ducks\n",
              "1202                               Legal Eagles\n",
              "1440                     Flight of the Intruder\n",
              "1282                          The Hunting Party\n",
              "1478                             A Few Good Men\n",
              "1084                            The Glimmer Man\n",
              "3943                                  Compadres\n",
              "817                            American Wedding\n",
              "1253                              Kiss of Death\n",
              "Name: title, dtype: object"
            ]
          },
          "execution_count": 44,
          "metadata": {},
          "output_type": "execute_result"
        }
      ],
      "source": [
        "get_recommendations('The Dark Knight').head(45)"
      ]
    },
    {
      "cell_type": "code",
      "execution_count": 45,
      "metadata": {
        "colab": {},
        "colab_type": "code",
        "id": "KI81tID4MxwY",
        "outputId": "9f1365f2-c5a0-4116-fbf8-5b1625be9755",
        "scrolled": true
      },
      "outputs": [
        {
          "data": {
            "text/plain": [
              "2731     The Godfather: Part II\n",
              "1873                 Blood Ties\n",
              "3859            Lords of London\n",
              "3623                       Made\n",
              "3727                 Easy Money\n",
              "3164              Loose Cannons\n",
              "1475          Playing for Keeps\n",
              "3960               The Deported\n",
              "2038              Summer of Sam\n",
              "867     The Godfather: Part III\n",
              "Name: title, dtype: object"
            ]
          },
          "execution_count": 45,
          "metadata": {},
          "output_type": "execute_result"
        }
      ],
      "source": [
        "get_recommendations('The Godfather').head(10)"
      ]
    },
    {
      "cell_type": "code",
      "execution_count": 46,
      "metadata": {
        "colab": {},
        "colab_type": "code",
        "id": "e3tlQvd6Mxwa",
        "outputId": "6dc9aef8-91f2-4c9c-a4db-97965315577f"
      },
      "outputs": [
        {
          "data": {
            "text/plain": [
              "343                Toy Story 2\n",
              "42                 Toy Story 3\n",
              "1779    The 40 Year Old Virgin\n",
              "891            Man on the Moon\n",
              "3379              Factory Girl\n",
              "3873             Class of 1984\n",
              "2869    For Your Consideration\n",
              "3065                Heartbeeps\n",
              "3383                 Losin' It\n",
              "2569               Match Point\n",
              "Name: title, dtype: object"
            ]
          },
          "execution_count": 46,
          "metadata": {},
          "output_type": "execute_result"
        }
      ],
      "source": [
        "get_recommendations('Toy Story').head(10)"
      ]
    },
    {
      "cell_type": "code",
      "execution_count": 49,
      "metadata": {},
      "outputs": [
        {
          "data": {
            "text/plain": [
              "2731     The Godfather: Part II\n",
              "1873                 Blood Ties\n",
              "3859            Lords of London\n",
              "3623                       Made\n",
              "3727                 Easy Money\n",
              "3164              Loose Cannons\n",
              "1475          Playing for Keeps\n",
              "3960               The Deported\n",
              "2038              Summer of Sam\n",
              "867     The Godfather: Part III\n",
              "Name: title, dtype: object"
            ]
          },
          "execution_count": 49,
          "metadata": {},
          "output_type": "execute_result"
        }
      ],
      "source": [
        "get_recommendations('The Godfather').head(10)"
      ]
    },
    {
      "cell_type": "code",
      "execution_count": 47,
      "metadata": {
        "colab": {},
        "colab_type": "code",
        "id": "_ZzHSA0EMxwc",
        "outputId": "951a2032-8378-425d-ea91-05d190d09489"
      },
      "outputs": [],
      "source": [
        "# get_recommendations('Jumanji').head(10)"
      ]
    },
    {
      "cell_type": "code",
      "execution_count": 50,
      "metadata": {
        "colab": {},
        "colab_type": "code",
        "id": "x2hJdF2QMxwh",
        "outputId": "c64d5ed4-f6a3-447b-bce9-f82e78b051e1"
      },
      "outputs": [],
      "source": [
        "# get_recommendations('Doctor Who: Last Christmas').head(10)"
      ]
    },
    {
      "cell_type": "code",
      "execution_count": 51,
      "metadata": {
        "colab": {},
        "colab_type": "code",
        "id": "cY4pfMQ6Mxwj",
        "outputId": "48d43149-7d6a-4d36-f467-dd848792da2a",
        "scrolled": true
      },
      "outputs": [
        {
          "data": {
            "text/plain": [
              "'[{\"id\": 18, \"name\": \"Drama\"}, {\"id\": 80, \"name\": \"Crime\"}]'"
            ]
          },
          "execution_count": 51,
          "metadata": {},
          "output_type": "execute_result"
        }
      ],
      "source": [
        "movies[movies['title'] == 'The Godfather']['genres'].values[0]"
      ]
    },
    {
      "cell_type": "code",
      "execution_count": 52,
      "metadata": {
        "colab": {},
        "colab_type": "code",
        "id": "achAM2kOMxwm",
        "outputId": "031641cc-6739-4bc3-ee62-ea21c832ceb3"
      },
      "outputs": [
        {
          "data": {
            "text/plain": [
              "'Spanning the years 1945 to 1955, a chronicle of the fictional Italian-American Corleone crime family. When organized crime family patriarch, Vito Corleone barely survives an attempt on his life, his youngest son, Michael steps in to take care of the would-be killers, launching a campaign of bloody revenge.'"
            ]
          },
          "execution_count": 52,
          "metadata": {},
          "output_type": "execute_result"
        }
      ],
      "source": [
        "movies[movies['title'] == 'The Godfather']['overview'].values[0]"
      ]
    },
    {
      "cell_type": "code",
      "execution_count": 53,
      "metadata": {
        "colab": {},
        "colab_type": "code",
        "id": "_qWF7GNFMxwo",
        "outputId": "5e059cfe-1a17-4811-80f9-6f9c262470a9",
        "scrolled": true
      },
      "outputs": [
        {
          "data": {
            "text/plain": [
              "2897                         Cypher\n",
              "2389                    Renaissance\n",
              "4253             Closer to the Moon\n",
              "3599                      Lone Star\n",
              "1930                     Stone Cold\n",
              "1683                Pitch Perfect 2\n",
              "1470                         Stolen\n",
              "1663    Once Upon a Time in America\n",
              "3962                      Open Road\n",
              "831                    Tango & Cash\n",
              "Name: title, dtype: object"
            ]
          },
          "execution_count": 53,
          "metadata": {},
          "output_type": "execute_result"
        }
      ],
      "source": [
        "get_recommendations('Inception').head(10)"
      ]
    },
    {
      "cell_type": "code",
      "execution_count": 55,
      "metadata": {
        "colab": {},
        "colab_type": "code",
        "id": "HYBrumJMMxwq",
        "outputId": "332ba5a5-231b-4847-b773-00033544f0f0"
      },
      "outputs": [
        {
          "data": {
            "text/plain": [
              "'An unsuspecting, disenchanted man finds himself working as a spy in the dangerous, high-stakes world of corporate espionage. Quickly getting way over-his-head, he teams up with a mysterious femme fatale.'"
            ]
          },
          "execution_count": 55,
          "metadata": {},
          "output_type": "execute_result"
        }
      ],
      "source": [
        "movies[movies['title'] == 'Cypher']['overview'].values[0]"
      ]
    },
    {
      "cell_type": "code",
      "execution_count": 56,
      "metadata": {
        "colab": {},
        "colab_type": "code",
        "id": "0BKBof28Mxws",
        "outputId": "cac86ec6-028b-4f61-b6ed-fcec6ddd128f",
        "scrolled": true
      },
      "outputs": [
        {
          "data": {
            "text/plain": [
              "'Cobb, a skilled thief who commits corporate espionage by infiltrating the subconscious of his targets is offered a chance to regain his old life as payment for a task considered to be impossible: \"inception\", the implantation of another person\\'s idea into a target\\'s subconscious.'"
            ]
          },
          "execution_count": 56,
          "metadata": {},
          "output_type": "execute_result"
        }
      ],
      "source": [
        "movies[movies['title'] == 'Inception']['overview'].values[0]"
      ]
    },
    {
      "cell_type": "code",
      "execution_count": 57,
      "metadata": {
        "colab": {},
        "colab_type": "code",
        "id": "utqjBJaIMxwu",
        "outputId": "8216ec9b-9303-4e04-f3a2-fa9ac3189b2e"
      },
      "outputs": [
        {
          "data": {
            "text/html": [
              "<div>\n",
              "<style scoped>\n",
              "    .dataframe tbody tr th:only-of-type {\n",
              "        vertical-align: middle;\n",
              "    }\n",
              "\n",
              "    .dataframe tbody tr th {\n",
              "        vertical-align: top;\n",
              "    }\n",
              "\n",
              "    .dataframe thead th {\n",
              "        text-align: right;\n",
              "    }\n",
              "</style>\n",
              "<table border=\"1\" class=\"dataframe\">\n",
              "  <thead>\n",
              "    <tr style=\"text-align: right;\">\n",
              "      <th></th>\n",
              "      <th>popularity</th>\n",
              "      <th>vote_average</th>\n",
              "      <th>vote_count</th>\n",
              "    </tr>\n",
              "  </thead>\n",
              "  <tbody>\n",
              "    <tr>\n",
              "      <th>popularity</th>\n",
              "      <td>1.000000</td>\n",
              "      <td>0.273952</td>\n",
              "      <td>0.778130</td>\n",
              "    </tr>\n",
              "    <tr>\n",
              "      <th>vote_average</th>\n",
              "      <td>0.273952</td>\n",
              "      <td>1.000000</td>\n",
              "      <td>0.312997</td>\n",
              "    </tr>\n",
              "    <tr>\n",
              "      <th>vote_count</th>\n",
              "      <td>0.778130</td>\n",
              "      <td>0.312997</td>\n",
              "      <td>1.000000</td>\n",
              "    </tr>\n",
              "  </tbody>\n",
              "</table>\n",
              "</div>"
            ],
            "text/plain": [
              "              popularity  vote_average  vote_count\n",
              "popularity      1.000000      0.273952    0.778130\n",
              "vote_average    0.273952      1.000000    0.312997\n",
              "vote_count      0.778130      0.312997    1.000000"
            ]
          },
          "execution_count": 57,
          "metadata": {},
          "output_type": "execute_result"
        }
      ],
      "source": [
        "popularity_df = movies[['popularity', 'vote_average', 'vote_count']]\n",
        "popularity_df.corr()"
      ]
    },
    {
      "cell_type": "code",
      "execution_count": 58,
      "metadata": {
        "colab": {},
        "colab_type": "code",
        "id": "yjonO-1nMxwv",
        "scrolled": false
      },
      "outputs": [
        {
          "data": {
            "image/png": "[encoded data removed]",
            "text/plain": [
              "<Figure size 1000x1000 with 9 Axes>"
            ]
          },
          "metadata": {},
          "output_type": "display_data"
        }
      ],
      "source": [
        "pd.plotting.scatter_matrix(popularity_df, figsize=(10, 10))\n",
        "plt.show()"
      ]
    },
    {
      "cell_type": "markdown",
      "metadata": {
        "colab_type": "text",
        "id": "qsityhWyMxwy"
      },
      "source": [
        "## Include genre in TF-IDF"
      ]
    },
    {
      "cell_type": "code",
      "execution_count": 59,
      "metadata": {
        "colab": {},
        "colab_type": "code",
        "id": "ZikuR4oMMxwy"
      },
      "outputs": [],
      "source": [
        "movies['tagline'] = movies['tagline'].fillna('')\n",
        "movies['description_genre'] = movies['overview'] + movies['tagline'] + 2*movies['genres']\n",
        "movies['description_genre'] = movies['description_genre'].fillna('')"
      ]
    },
    {
      "cell_type": "code",
      "execution_count": 60,
      "metadata": {
        "colab": {},
        "colab_type": "code",
        "id": "sVTGPgKRMxw0"
      },
      "outputs": [],
      "source": [
        "tf_new = TfidfVectorizer(analyzer='word', ngram_range=(1, 2), min_df=0, stop_words='english')\n",
        "tfidf_matrix_new = tf_new.fit_transform(movies['description_genre'])"
      ]
    },
    {
      "cell_type": "code",
      "execution_count": 61,
      "metadata": {
        "colab": {},
        "colab_type": "code",
        "id": "1MbdycTsMxw2"
      },
      "outputs": [],
      "source": [
        "cosine_sim_new = linear_kernel(tfidf_matrix_new, tfidf_matrix_new)"
      ]
    },
    {
      "cell_type": "code",
      "execution_count": 74,
      "metadata": {},
      "outputs": [
        {
          "data": {
            "text/plain": [
              "{'22nd': 1105,\n",
              " 'century': 20635,\n",
              " 'paraplegic': 98433,\n",
              " 'marine': 84845,\n",
              " 'dispatched': 37428,\n",
              " 'moon': 89877,\n",
              " 'pandora': 98277,\n",
              " 'unique': 140820,\n",
              " 'mission': 88809,\n",
              " 'torn': 136175,\n",
              " 'following': 51260,\n",
              " 'orders': 96791,\n",
              " 'protecting': 106063,\n",
              " 'alien': 4715,\n",
              " 'civilization': 23395,\n",
              " 'enter': 43056,\n",
              " 'world': 148989,\n",
              " 'id': 66122,\n",
              " '28': 1149,\n",
              " 'action': 2431,\n",
              " '12': 165,\n",
              " 'adventure': 3171,\n",
              " '14': 221,\n",
              " 'fantasy': 47444,\n",
              " '878': 1491,\n",
              " 'science': 117277,\n",
              " 'fiction': 49020,\n",
              " '22nd century': 1106,\n",
              " 'century paraplegic': 20682,\n",
              " 'paraplegic marine': 98434,\n",
              " 'marine dispatched': 84852,\n",
              " 'dispatched moon': 37432,\n",
              " 'moon pandora': 89888,\n",
              " 'pandora unique': 98280,\n",
              " 'unique mission': 140835,\n",
              " 'mission torn': 88946,\n",
              " 'torn following': 136183,\n",
              " 'following orders': 51291,\n",
              " 'orders protecting': 96808,\n",
              " 'protecting alien': 106064,\n",
              " 'alien civilization': 4725,\n",
              " 'civilization enter': 23401,\n",
              " 'enter world': 43091,\n",
              " 'world pandora': 149309,\n",
              " 'pandora id': 98279,\n",
              " 'id 28': 66134,\n",
              " '28 action': 1151,\n",
              " 'action id': 2472,\n",
              " 'id 12': 66129,\n",
              " '12 adventure': 170,\n",
              " 'adventure id': 3233,\n",
              " 'id 14': 66130,\n",
              " '14 fantasy': 224,\n",
              " 'fantasy id': 47455,\n",
              " 'id 878': 66140,\n",
              " '878 science': 1492,\n",
              " 'science fiction': 117282,\n",
              " 'fiction id': 49029,\n",
              " 'captain': 19006,\n",
              " 'barbossa': 10713,\n",
              " 'long': 80790,\n",
              " 'believed': 12409,\n",
              " 'dead': 32678,\n",
              " 'come': 25217,\n",
              " 'life': 78168,\n",
              " 'headed': 61168,\n",
              " 'edge': 40923,\n",
              " 'earth': 40459,\n",
              " 'turner': 139291,\n",
              " 'elizabeth': 41495,\n",
              " 'swann': 130972,\n",
              " 'quite': 107413,\n",
              " 'end': 42261,\n",
              " 'begins': 12085,\n",
              " 'captain barbossa': 19012,\n",
              " 'barbossa long': 10714,\n",
              " 'long believed': 80795,\n",
              " 'believed dead': 12413,\n",
              " 'dead come': 32702,\n",
              " 'come life': 25287,\n",
              " 'life headed': 78456,\n",
              " 'headed edge': 61175,\n",
              " 'edge earth': 40928,\n",
              " 'earth turner': 40603,\n",
              " 'turner elizabeth': 139293,\n",
              " 'elizabeth swann': 41517,\n",
              " 'swann quite': 130973,\n",
              " 'quite end': 107418,\n",
              " 'end world': 42391,\n",
              " 'world adventure': 149001,\n",
              " 'adventure begins': 3183,\n",
              " 'begins id': 12142,\n",
              " 'cryptic': 30567,\n",
              " 'message': 87392,\n",
              " 'bond': 14725,\n",
              " 'past': 99175,\n",
              " 'sends': 118932,\n",
              " 'trail': 137120,\n",
              " 'uncover': 140122,\n",
              " 'sinister': 121983,\n",
              " 'organization': 96882,\n",
              " 'battles': 11329,\n",
              " 'political': 102953,\n",
              " 'forces': 51749,\n",
              " 'secret': 118050,\n",
              " 'service': 119500,\n",
              " 'alive': 4830,\n",
              " 'peels': 99844,\n",
              " 'layers': 76425,\n",
              " 'deceit': 33446,\n",
              " 'reveal': 112372,\n",
              " 'terrible': 133495,\n",
              " 'truth': 138711,\n",
              " 'spectre': 124931,\n",
              " 'plan': 101747,\n",
              " 'escapes': 43768,\n",
              " '80': 1467,\n",
              " 'crime': 29917,\n",
              " 'cryptic message': 30569,\n",
              " 'message bond': 87395,\n",
              " 'bond past': 14776,\n",
              " 'past sends': 99292,\n",
              " 'sends trail': 118965,\n",
              " 'trail uncover': 137145,\n",
              " 'uncover sinister': 140148,\n",
              " 'sinister organization': 121997,\n",
              " 'organization battles': 96883,\n",
              " 'battles political': 11341,\n",
              " 'political forces': 102969,\n",
              " 'forces secret': 51844,\n",
              " 'secret service': 118169,\n",
              " 'service alive': 119504,\n",
              " 'alive bond': 4842,\n",
              " 'bond peels': 14777,\n",
              " 'peels layers': 99845,\n",
              " 'layers deceit': 76426,\n",
              " 'deceit reveal': 33455,\n",
              " 'reveal terrible': 112387,\n",
              " 'terrible truth': 133517,\n",
              " 'truth spectre': 138791,\n",
              " 'spectre plan': 124933,\n",
              " 'plan escapes': 101776,\n",
              " 'escapes id': 43787,\n",
              " 'id 80': 66139,\n",
              " '80 crime': 1471,\n",
              " 'crime id': 29957,\n",
              " 'death': 33102,\n",
              " 'district': 37589,\n",
              " 'attorney': 9091,\n",
              " 'harvey': 60724,\n",
              " 'dent': 34504,\n",
              " 'batman': 11155,\n",
              " 'assumes': 8566,\n",
              " 'responsibility': 111673,\n",
              " 'crimes': 30009,\n",
              " 'protect': 105976,\n",
              " 'late': 75918,\n",
              " 'reputation': 111210,\n",
              " 'subsequently': 129296,\n",
              " 'hunted': 65641,\n",
              " 'gotham': 57583,\n",
              " 'city': 23096,\n",
              " 'police': 102813,\n",
              " 'department': 34539,\n",
              " 'years': 150268,\n",
              " 'later': 75974,\n",
              " 'encounters': 42202,\n",
              " 'mysterious': 91719,\n",
              " 'selina': 118770,\n",
              " 'kyle': 75250,\n",
              " 'villainous': 143358,\n",
              " 'bane': 10520,\n",
              " 'new': 93448,\n",
              " 'terrorist': 133663,\n",
              " 'leader': 76525,\n",
              " 'overwhelms': 97643,\n",
              " 'finest': 50351,\n",
              " 'dark': 31751,\n",
              " 'knight': 74663,\n",
              " 'resurfaces': 111904,\n",
              " 'branded': 15880,\n",
              " 'enemy': 42596,\n",
              " 'legend': 77493,\n",
              " 'ends': 42492,\n",
              " '18': 330,\n",
              " 'drama': 39005,\n",
              " '53': 1347,\n",
              " 'thriller': 134802,\n",
              " 'following death': 51271,\n",
              " 'death district': 33153,\n",
              " 'district attorney': 37592,\n",
              " 'attorney harvey': 9102,\n",
              " 'harvey dent': 60727,\n",
              " 'dent batman': 34505,\n",
              " 'batman assumes': 11156,\n",
              " 'assumes responsibility': 8570,\n",
              " 'responsibility dent': 111676,\n",
              " 'dent crimes': 34506,\n",
              " 'crimes protect': 30025,\n",
              " 'protect late': 106013,\n",
              " 'late attorney': 75933,\n",
              " 'attorney reputation': 9110,\n",
              " 'reputation subsequently': 111226,\n",
              " 'subsequently hunted': 129298,\n",
              " 'hunted gotham': 65651,\n",
              " 'gotham city': 57585,\n",
              " 'city police': 23279,\n",
              " 'police department': 102838,\n",
              " 'department years': 34554,\n",
              " 'years later': 150389,\n",
              " 'later batman': 75982,\n",
              " 'batman encounters': 11162,\n",
              " 'encounters mysterious': 42222,\n",
              " 'mysterious selina': 91839,\n",
              " 'selina kyle': 118771,\n",
              " 'kyle villainous': 75261,\n",
              " 'villainous bane': 143359,\n",
              " 'bane new': 10521,\n",
              " 'new terrorist': 93743,\n",
              " 'terrorist leader': 133679,\n",
              " 'leader overwhelms': 76569,\n",
              " 'overwhelms gotham': 97645,\n",
              " 'gotham finest': 57586,\n",
              " 'finest dark': 50352,\n",
              " 'dark knight': 31787,\n",
              " 'knight resurfaces': 74676,\n",
              " 'resurfaces protect': 111910,\n",
              " 'protect city': 105984,\n",
              " 'city branded': 23125,\n",
              " 'branded enemy': 15882,\n",
              " 'enemy legend': 42618,\n",
              " 'legend ends': 77510,\n",
              " 'ends id': 42515,\n",
              " 'id 18': 66132,\n",
              " '18 drama': 333,\n",
              " 'drama id': 39035,\n",
              " 'id 53': 66138,\n",
              " '53 thriller': 1349,\n",
              " 'thriller id': 134821,\n",
              " 'john': 71610,\n",
              " 'carter': 19698,\n",
              " 'war': 144735,\n",
              " 'weary': 146009,\n",
              " 'military': 88076,\n",
              " 'inexplicably': 67708,\n",
              " 'transported': 137475,\n",
              " 'exotic': 45224,\n",
              " 'planet': 101876,\n",
              " 'barsoom': 10906,\n",
              " 'mars': 85233,\n",
              " 'reluctantly': 110578,\n",
              " 'embroiled': 41785,\n",
              " 'epic': 43351,\n",
              " 'conflict': 26761,\n",
              " 'brink': 16558,\n",
              " 'collapse': 24749,\n",
              " 'rediscovers': 109756,\n",
              " 'humanity': 65368,\n",
              " 'realizes': 108903,\n",
              " 'survival': 130546,\n",
              " 'people': 99983,\n",
              " 'rests': 111822,\n",
              " 'hands': 59929,\n",
              " 'lost': 81401,\n",
              " 'john carter': 71622,\n",
              " 'carter war': 19723,\n",
              " 'war weary': 144961,\n",
              " 'weary military': 146012,\n",
              " 'military captain': 88081,\n",
              " 'captain inexplicably': 19032,\n",
              " 'inexplicably transported': 67714,\n",
              " 'transported mysterious': 137484,\n",
              " 'mysterious exotic': 91777,\n",
              " 'exotic planet': 45235,\n",
              " 'planet barsoom': 101892,\n",
              " 'barsoom mars': 10907,\n",
              " 'mars reluctantly': 85244,\n",
              " 'reluctantly embroiled': 110587,\n",
              " 'embroiled epic': 41787,\n",
              " 'epic conflict': 43360,\n",
              " 'conflict world': 26782,\n",
              " 'world brink': 149040,\n",
              " 'brink collapse': 16560,\n",
              " 'collapse carter': 24753,\n",
              " 'carter rediscovers': 19716,\n",
              " 'rediscovers humanity': 109757,\n",
              " 'humanity realizes': 65400,\n",
              " 'realizes survival': 108951,\n",
              " 'survival barsoom': 130550,\n",
              " 'barsoom people': 10908,\n",
              " 'people rests': 100133,\n",
              " 'rests hands': 111824,\n",
              " 'hands lost': 59963,\n",
              " 'lost world': 81502,\n",
              " 'world id': 149202,\n",
              " 'seemingly': 118537,\n",
              " 'invincible': 69416,\n",
              " 'spider': 125072,\n",
              " 'man': 83809,\n",
              " 'goes': 56898,\n",
              " 'crop': 30289,\n",
              " 'villain': 143333,\n",
              " 'including': 67239,\n",
              " 'shape': 120369,\n",
              " 'shifting': 120764,\n",
              " 'sandman': 116140,\n",
              " 'superpowers': 130136,\n",
              " 'altered': 5132,\n",
              " 'organism': 96879,\n",
              " 'alter': 5116,\n",
              " 'ego': 41184,\n",
              " 'peter': 100763,\n",
              " 'parker': 98685,\n",
              " 'deals': 33058,\n",
              " 'nemesis': 93260,\n",
              " 'eddie': 40886,\n",
              " 'brock': 16735,\n",
              " 'gets': 55556,\n",
              " 'caught': 20157,\n",
              " 'love': 81617,\n",
              " 'triangle': 137952,\n",
              " 'battle': 11189,\n",
              " 'seemingly invincible': 118554,\n",
              " 'invincible spider': 69421,\n",
              " 'spider man': 125077,\n",
              " 'man goes': 83993,\n",
              " 'goes new': 56966,\n",
              " 'new crop': 93517,\n",
              " 'crop villain': 30291,\n",
              " 'villain including': 143345,\n",
              " 'including shape': 67296,\n",
              " 'shape shifting': 120378,\n",
              " 'shifting sandman': 120769,\n",
              " 'sandman spider': 116141,\n",
              " 'man superpowers': 84267,\n",
              " 'superpowers altered': 130138,\n",
              " 'altered alien': 5133,\n",
              " 'alien organism': 4745,\n",
              " 'organism alter': 96880,\n",
              " 'alter ego': 5119,\n",
              " 'ego peter': 41194,\n",
              " 'peter parker': 100795,\n",
              " 'parker deals': 98688,\n",
              " 'deals nemesis': 33072,\n",
              " 'nemesis eddie': 93262,\n",
              " 'eddie brock': 40889,\n",
              " 'brock gets': 16736,\n",
              " 'gets caught': 55583,\n",
              " 'caught love': 20185,\n",
              " 'love triangle': 81986,\n",
              " 'triangle battle': 137954,\n",
              " 'battle id': 11248,\n",
              " 'kingdom': 74428,\n",
              " 'wanted': 144554,\n",
              " 'charming': 21611,\n",
              " 'bandit': 10492,\n",
              " 'flynn': 51067,\n",
              " 'rider': 113011,\n",
              " 'hides': 62657,\n",
              " 'tower': 136482,\n",
              " 'taken': 131445,\n",
              " 'hostage': 64700,\n",
              " 'rapunzel': 108282,\n",
              " 'beautiful': 11627,\n",
              " 'feisty': 48660,\n",
              " 'bound': 15327,\n",
              " 'teen': 132881,\n",
              " '70': 1422,\n",
              " 'feet': 48629,\n",
              " 'magical': 83007,\n",
              " 'golden': 57157,\n",
              " 'hair': 59639,\n",
              " 'curious': 30803,\n",
              " 'captor': 19092,\n",
              " 'looking': 81027,\n",
              " 'ticket': 135039,\n",
              " 'locked': 80552,\n",
              " 'away': 9684,\n",
              " 'strikes': 128517,\n",
              " 'deal': 32924,\n",
              " 'handsome': 59987,\n",
              " 'thief': 134101,\n",
              " 'unlikely': 141085,\n",
              " 'duo': 40077,\n",
              " 'sets': 119786,\n",
              " 'packed': 97886,\n",
              " 'escapade': 43658,\n",
              " 'complete': 26287,\n",
              " 'super': 129978,\n",
              " 'cop': 28071,\n",
              " 'horse': 64584,\n",
              " 'protective': 106093,\n",
              " 'chameleon': 20910,\n",
              " 'gruff': 59033,\n",
              " 'gang': 54688,\n",
              " 'pub': 106433,\n",
              " 'thugs': 134964,\n",
              " 'taking': 131707,\n",
              " 'lengths': 77717,\n",
              " '16': 280,\n",
              " 'animation': 6314,\n",
              " '10751': 113,\n",
              " 'family': 46843,\n",
              " 'kingdom wanted': 74460,\n",
              " 'wanted charming': 144559,\n",
              " 'charming bandit': 21613,\n",
              " 'bandit flynn': 10496,\n",
              " 'flynn rider': 51072,\n",
              " 'rider hides': 113015,\n",
              " 'hides mysterious': 62663,\n",
              " 'mysterious tower': 91858,\n",
              " 'tower taken': 136487,\n",
              " 'taken hostage': 131470,\n",
              " 'hostage rapunzel': 64715,\n",
              " 'rapunzel beautiful': 108283,\n",
              " 'beautiful feisty': 11653,\n",
              " 'feisty tower': 48665,\n",
              " 'tower bound': 136483,\n",
              " 'bound teen': 15346,\n",
              " 'teen 70': 132882,\n",
              " '70 feet': 1423,\n",
              " 'feet magical': 48642,\n",
              " 'magical golden': 83018,\n",
              " 'golden hair': 57170,\n",
              " 'hair flynn': 59645,\n",
              " 'flynn curious': 51069,\n",
              " 'curious captor': 30805,\n",
              " 'captor looking': 19093,\n",
              " 'looking ticket': 81077,\n",
              " 'ticket tower': 135050,\n",
              " 'tower locked': 136486,\n",
              " 'locked away': 80553,\n",
              " 'away years': 9805,\n",
              " 'years strikes': 150465,\n",
              " 'strikes deal': 128522,\n",
              " 'deal handsome': 32939,\n",
              " 'handsome thief': 60006,\n",
              " 'thief unlikely': 134135,\n",
              " 'unlikely duo': 141102,\n",
              " 'duo sets': 40099,\n",
              " 'sets action': 119787,\n",
              " 'action packed': 2482,\n",
              " 'packed escapade': 97893,\n",
              " 'escapade complete': 43659,\n",
              " 'complete super': 26314,\n",
              " 'super cop': 129983,\n",
              " 'cop horse': 28108,\n",
              " 'horse protective': 64597,\n",
              " 'protective chameleon': 106095,\n",
              " 'chameleon gruff': 20911,\n",
              " 'gruff gang': 59034,\n",
              " 'gang pub': 54748,\n",
              " 'pub thugs': 106436,\n",
              " 'thugs taking': 134976,\n",
              " 'taking adventure': 131709,\n",
              " 'adventure new': 3251,\n",
              " 'new lengths': 93614,\n",
              " 'lengths id': 77720,\n",
              " 'id 16': 66131,\n",
              " '16 animation': 283,\n",
              " 'animation id': 6319,\n",
              " 'id 10751': 66125,\n",
              " '10751 family': 114,\n",
              " 'family id': 47026,\n",
              " 'tony': 136050,\n",
              " 'stark': 126118,\n",
              " 'tries': 138051,\n",
              " 'jumpstart': 72492,\n",
              " 'dormant': 38660,\n",
              " 'peacekeeping': 99768,\n",
              " 'program': 105557,\n",
              " 'things': 134234,\n",
              " 'awry': 9841,\n",
              " 'mightiest': 87928,\n",
              " 'heroes': 62432,\n",
              " 'ultimate': 139773,\n",
              " 'test': 133780,\n",
              " 'fate': 47779,\n",
              " 'hangs': 60048,\n",
              " 'balance': 10298,\n",
              " 'ultron': 139880,\n",
              " 'emerges': 41832,\n",
              " 'avengers': 9516,\n",
              " 'stop': 127270,\n",
              " 'enacting': 42116,\n",
              " 'plans': 102016,\n",
              " 'soon': 124096,\n",
              " 'uneasy': 140481,\n",
              " 'alliances': 4955,\n",
              " 'unexpected': 140511,\n",
              " 'pave': 99607,\n",
              " 'way': 145481,\n",
              " 'global': 56646,\n",
              " 'age': 3681,\n",
              " 'tony stark': 136069,\n",
              " 'stark tries': 126126,\n",
              " 'tries jumpstart': 138097,\n",
              " 'jumpstart dormant': 72493,\n",
              " 'dormant peacekeeping': 38662,\n",
              " 'peacekeeping program': 99770,\n",
              " 'program things': 105584,\n",
              " 'things awry': 134241,\n",
              " 'awry earth': 9844,\n",
              " 'earth mightiest': 40555,\n",
              " 'mightiest heroes': 87929,\n",
              " 'heroes ultimate': 62466,\n",
              " 'ultimate test': 139812,\n",
              " 'test fate': 133791,\n",
              " 'fate planet': 47823,\n",
              " 'planet hangs': 101920,\n",
              " 'hangs balance': 60049,\n",
              " 'balance villainous': 10317,\n",
              " 'villainous ultron': 143367,\n",
              " 'ultron emerges': 139882,\n",
              " 'emerges avengers': 41833,\n",
              " 'avengers stop': 9519,\n",
              " 'stop enacting': 127299,\n",
              " 'enacting terrible': 42118,\n",
              " 'terrible plans': 133510,\n",
              " 'plans soon': 102071,\n",
              " 'soon uneasy': 124246,\n",
              " 'uneasy alliances': 140482,\n",
              " 'alliances unexpected': 4957,\n",
              " 'unexpected action': 140512,\n",
              " 'action pave': 2484,\n",
              " 'pave way': 99608,\n",
              " 'way epic': 145564,\n",
              " 'epic unique': 43392,\n",
              " 'unique global': 140830,\n",
              " 'global adventure': 56647,\n",
              " 'new age': 93458,\n",
              " 'age come': 3701,\n",
              " 'come id': 25275,\n",
              " 'harry': 60632,\n",
              " 'sixth': 122311,\n",
              " 'year': 150138,\n",
              " 'hogwarts': 63412,\n",
              " 'discovers': 37027,\n",
              " 'old': 95812,\n",
              " 'book': 14855,\n",
              " 'marked': 84945,\n",
              " 'property': 105833,\n",
              " 'half': 59684,\n",
              " 'blood': 14158,\n",
              " 'prince': 104806,\n",
              " 'learn': 76818,\n",
              " 'lord': 81185,\n",
              " 'voldemort': 143906,\n",
              " 'secrets': 118242,\n",
              " 'revealed': 112391,\n",
              " 'harry begins': 60634,\n",
              " 'begins sixth': 12196,\n",
              " 'sixth year': 122316,\n",
              " 'year hogwarts': 150201,\n",
              " 'hogwarts discovers': 63414,\n",
              " 'discovers old': 37126,\n",
              " 'old book': 95842,\n",
              " 'book marked': 14896,\n",
              " 'marked property': 84952,\n",
              " 'property half': 105837,\n",
              " 'half blood': 59691,\n",
              " 'blood prince': 14189,\n",
              " 'prince begins': 104810,\n",
              " 'begins learn': 12154,\n",
              " 'learn lord': 76855,\n",
              " 'lord voldemort': 81227,\n",
              " 'voldemort dark': 143907,\n",
              " 'dark past': 31795,\n",
              " 'past dark': 99205,\n",
              " 'dark secrets': 31805,\n",
              " 'secrets revealed': 118289,\n",
              " 'revealed id': 112407,\n",
              " 'fearing': 48389,\n",
              " 'actions': 2506,\n",
              " 'god': 56804,\n",
              " 'like': 79029,\n",
              " 'hero': 62355,\n",
              " 'left': 77322,\n",
              " 'unchecked': 140035,\n",
              " 'formidable': 52170,\n",
              " 'forceful': 51745,\n",
              " 'vigilante': 143221,\n",
              " 'takes': 131514,\n",
              " 'metropolis': 87549,\n",
              " 'revered': 112593,\n",
              " 'modern': 89294,\n",
              " 'day': 32337,\n",
              " 'savior': 116579,\n",
              " 'wrestles': 149774,\n",
              " 'sort': 124336,\n",
              " 'really': 108968,\n",
              " 'needs': 92995,\n",
              " 'superman': 130071,\n",
              " 'threat': 134655,\n",
              " 'quickly': 107293,\n",
              " 'arises': 7340,\n",
              " 'putting': 106909,\n",
              " 'mankind': 84543,\n",
              " 'greater': 58185,\n",
              " 'danger': 31421,\n",
              " 'known': 74845,\n",
              " 'justice': 72835,\n",
              " 'revenge': 112476,\n",
              " 'fearing actions': 48390,\n",
              " 'actions god': 2513,\n",
              " 'god like': 56840,\n",
              " 'like super': 79171,\n",
              " 'super hero': 129988,\n",
              " 'hero left': 62398,\n",
              " 'left unchecked': 77424,\n",
              " 'unchecked gotham': 140036,\n",
              " 'city formidable': 23195,\n",
              " 'formidable forceful': 52174,\n",
              " 'forceful vigilante': 51746,\n",
              " 'vigilante takes': 143231,\n",
              " 'takes metropolis': 131623,\n",
              " 'metropolis revered': 87550,\n",
              " 'revered modern': 112596,\n",
              " 'modern day': 89300,\n",
              " 'day savior': 32495,\n",
              " 'savior world': 116584,\n",
              " 'world wrestles': 149498,\n",
              " 'wrestles sort': 149775,\n",
              " 'sort hero': 124340,\n",
              " 'hero really': 62415,\n",
              " 'really needs': 109013,\n",
              " 'needs batman': 92998,\n",
              " 'batman superman': 11170,\n",
              " 'superman war': 130083,\n",
              " 'war new': 144891,\n",
              " 'new threat': 93744,\n",
              " 'threat quickly': 134674,\n",
              " 'quickly arises': 107295,\n",
              " 'arises putting': 7344,\n",
              " 'putting mankind': 106917,\n",
              " 'mankind greater': 84557,\n",
              " 'greater danger': 58186,\n",
              " 'danger known': 31438,\n",
              " 'known justice': 74890,\n",
              " 'justice revenge': 72881,\n",
              " 'revenge id': 112527,\n",
              " 'returns': 112200,\n",
              " 'discover': 36855,\n",
              " 'absence': 1825,\n",
              " 'allowed': 5011,\n",
              " 'lex': 78012,\n",
              " 'luthor': 82599,\n",
              " 'walk': 144290,\n",
              " 'free': 52834,\n",
              " 'closest': 24192,\n",
              " 'felt': 48767,\n",
              " 'abandoned': 1576,\n",
              " 'moved': 90576,\n",
              " 'plots': 102537,\n",
              " 'millions': 88224,\n",
              " 'killed': 73936,\n",
              " 'change': 21083,\n",
              " 'face': 46070,\n",
              " 'forever': 51960,\n",
              " 'ridding': 112967,\n",
              " 'steel': 126773,\n",
              " 'superman returns': 130081,\n",
              " 'returns discover': 112213,\n",
              " 'discover year': 36982,\n",
              " 'year absence': 150163,\n",
              " 'absence allowed': 1827,\n",
              " 'allowed lex': 5013,\n",
              " 'lex luthor': 78013,\n",
              " 'luthor walk': 82606,\n",
              " 'walk free': 144300,\n",
              " 'free closest': 52847,\n",
              " 'closest felt': 24195,\n",
              " 'felt abandoned': 48768,\n",
              " 'abandoned moved': 1596,\n",
              " 'moved luthor': 90588,\n",
              " 'luthor plots': 82602,\n",
              " 'plots ultimate': 102548,\n",
              " 'ultimate revenge': 139806,\n",
              " 'revenge millions': 112542,\n",
              " 'millions killed': 88237,\n",
              " 'killed change': 73952,\n",
              " 'change face': 21096,\n",
              " 'face planet': 46148,\n",
              " 'planet forever': 101913,\n",
              " 'forever ridding': 52005,\n",
              " 'ridding man': 112968,\n",
              " 'man steel': 84255,\n",
              " 'steel id': 126777,\n",
              " 'quantum': 106989,\n",
              " 'solace': 123550,\n",
              " 'continues': 27526,\n",
              " 'adventures': 3293,\n",
              " 'james': 70481,\n",
              " 'casino': 19886,\n",
              " 'royale': 114858,\n",
              " 'betrayed': 13073,\n",
              " 'vesper': 142840,\n",
              " 'woman': 147981,\n",
              " 'loved': 82027,\n",
              " '007': 51,\n",
              " 'fights': 49351,\n",
              " 'urge': 141792,\n",
              " 'make': 83280,\n",
              " 'latest': 76067,\n",
              " 'personal': 100574,\n",
              " 'pursuing': 106773,\n",
              " 'determination': 35451,\n",
              " 'interrogate': 68936,\n",
              " 'mr': 90873,\n",
              " 'white': 146649,\n",
              " 'reveals': 112432,\n",
              " 'blackmailed': 13870,\n",
              " 'far': 47465,\n",
              " 'complex': 26339,\n",
              " 'dangerous': 31469,\n",
              " 'imagined': 66675,\n",
              " 'hate': 60787,\n",
              " 'quantum solace': 106990,\n",
              " 'solace continues': 123552,\n",
              " 'continues adventures': 27527,\n",
              " 'adventures james': 3319,\n",
              " 'james bond': 70486,\n",
              " 'bond casino': 14737,\n",
              " 'casino royale': 19892,\n",
              " 'royale betrayed': 114859,\n",
              " 'betrayed vesper': 13081,\n",
              " 'vesper woman': 142843,\n",
              " 'woman loved': 148122,\n",
              " 'loved 007': 82028,\n",
              " '007 fights': 55,\n",
              " 'fights urge': 49377,\n",
              " 'urge make': 141793,\n",
              " 'make latest': 83365,\n",
              " 'latest mission': 76089,\n",
              " 'mission personal': 88900,\n",
              " 'personal pursuing': 100609,\n",
              " 'pursuing determination': 106774,\n",
              " 'determination uncover': 35457,\n",
              " 'uncover truth': 140154,\n",
              " 'truth bond': 138719,\n",
              " 'bond interrogate': 14760,\n",
              " 'interrogate mr': 68937,\n",
              " 'mr white': 90914,\n",
              " 'white reveals': 146696,\n",
              " 'reveals organization': 112447,\n",
              " 'organization blackmailed': 96885,\n",
              " 'blackmailed vesper': 13872,\n",
              " 'vesper far': 142841,\n",
              " 'far complex': 47471,\n",
              " 'complex dangerous': 26343,\n",
              " 'dangerous imagined': 31518,\n",
              " 'imagined love': 66687,\n",
              " 'love hate': 81784,\n",
              " 'hate justice': 60793,\n",
              " 'jack': 70183,\n",
              " 'sparrow': 124762,\n",
              " 'works': 148922,\n",
              " 'debt': 33345,\n",
              " 'ghostly': 55806,\n",
              " 'davey': 32246,\n",
              " 'jones': 71957,\n",
              " 'attempts': 8945,\n",
              " 'avoid': 9561,\n",
              " 'eternal': 44008,\n",
              " 'damnation': 31278,\n",
              " 'captain jack': 19033,\n",
              " 'jack sparrow': 70264,\n",
              " 'sparrow works': 124768,\n",
              " 'works way': 148987,\n",
              " 'way blood': 145510,\n",
              " 'blood debt': 14174,\n",
              " 'debt ghostly': 33351,\n",
              " 'ghostly davey': 55807,\n",
              " 'davey jones': 32247,\n",
              " 'jones attempts': 71960,\n",
              " 'attempts avoid': 8949,\n",
              " 'avoid eternal': 9567,\n",
              " 'eternal damnation': 44010,\n",
              " 'damnation jack': 31279,\n",
              " 'jack id': 70224,\n",
              " 'texas': 133876,\n",
              " 'rangers': 108169,\n",
              " 'chase': 21652,\n",
              " 'outlaws': 97294,\n",
              " 'led': 77199,\n",
              " 'butch': 17970,\n",
              " 'cavendish': 20349,\n",
              " 'ambushes': 5360,\n",
              " 'killing': 74169,\n",
              " 'survivor': 130709,\n",
              " 'american': 5483,\n",
              " 'indian': 67508,\n",
              " 'named': 92076,\n",
              " 'tonto': 136045,\n",
              " 'nurses': 94970,\n",
              " 'health': 61296,\n",
              " 'ranger': 108151,\n",
              " 'donning': 38519,\n",
              " 'mask': 85414,\n",
              " 'riding': 113038,\n",
              " 'stallion': 125827,\n",
              " 'silver': 121664,\n",
              " 'teams': 132717,\n",
              " 'bring': 16408,\n",
              " 'unscrupulous': 141360,\n",
              " 'ilk': 66470,\n",
              " '37': 1230,\n",
              " 'western': 146496,\n",
              " 'texas rangers': 133902,\n",
              " 'rangers chase': 108171,\n",
              " 'chase gang': 21661,\n",
              " 'gang outlaws': 54743,\n",
              " 'outlaws led': 97298,\n",
              " 'led butch': 77210,\n",
              " 'butch cavendish': 17973,\n",
              " 'cavendish gang': 20350,\n",
              " 'gang ambushes': 54690,\n",
              " 'ambushes rangers': 5361,\n",
              " 'rangers seemingly': 108176,\n",
              " 'seemingly killing': 118556,\n",
              " 'killing survivor': 74204,\n",
              " 'survivor american': 130712,\n",
              " 'american indian': 5568,\n",
              " 'indian named': 67530,\n",
              " 'named tonto': 92240,\n",
              " 'tonto nurses': 136047,\n",
              " 'nurses health': 94971,\n",
              " 'health ranger': 61311,\n",
              " 'ranger donning': 108154,\n",
              " 'donning mask': 38520,\n",
              " 'mask riding': 85426,\n",
              " 'riding white': 113056,\n",
              " 'white stallion': 146704,\n",
              " 'stallion named': 125831,\n",
              " 'named silver': 92227,\n",
              " 'silver teams': 121673,\n",
              " 'teams tonto': 132745,\n",
              " 'tonto bring': 136046,\n",
              " 'bring unscrupulous': 16482,\n",
              " 'unscrupulous gang': 141365,\n",
              " 'gang ilk': 54724,\n",
              " 'ilk justice': 66471,\n",
              " 'justice mask': 72867,\n",
              " 'mask id': 85420,\n",
              " 'id 37': 66137,\n",
              " '37 western': 1231,\n",
              " 'western id': 146507,\n",
              " 'young': 150733,\n",
              " 'boy': 15497,\n",
              " 'learns': 76920,\n",
              " 'extraordinary': 45830,\n",
              " 'powers': 103927,\n",
              " 'journeys': 72258,\n",
              " 'came': 18508,\n",
              " 'sent': 119067,\n",
              " 'emerge': 41806,\n",
              " 'save': 116387,\n",
              " 'annihilation': 6419,\n",
              " 'symbol': 131239,\n",
              " 'hope': 64236,\n",
              " 'believe': 12340,\n",
              " 'fly': 51011,\n",
              " 'young boy': 150764,\n",
              " 'boy learns': 15573,\n",
              " 'learns extraordinary': 76951,\n",
              " 'extraordinary powers': 45849,\n",
              " 'powers earth': 103942,\n",
              " 'earth young': 40618,\n",
              " 'young man': 150916,\n",
              " 'man journeys': 84052,\n",
              " 'journeys discover': 72259,\n",
              " 'discover came': 36873,\n",
              " 'came sent': 18541,\n",
              " 'sent hero': 119095,\n",
              " 'hero emerge': 62374,\n",
              " 'emerge save': 41813,\n",
              " 'save world': 116519,\n",
              " 'world annihilation': 149008,\n",
              " 'annihilation symbol': 6424,\n",
              " 'symbol hope': 131241,\n",
              " 'hope mankind': 64281,\n",
              " 'mankind believe': 84548,\n",
              " 'believe man': 12383,\n",
              " 'man fly': 83980,\n",
              " 'fly id': 51021,\n",
              " 'incredible': 67392,\n",
              " 'lion': 79453,\n",
              " 'witch': 147760,\n",
              " 'wardrobe': 144993,\n",
              " 'edmund': 40984,\n",
              " 'lucy': 82428,\n",
              " 'susan': 130759,\n",
              " 'pevensie': 100844,\n",
              " 'return': 112079,\n",
              " 'narnia': 92347,\n",
              " 'aid': 4197,\n",
              " 'threatened': 134698,\n",
              " 'evil': 44518,\n",
              " 'king': 74347,\n",
              " 'miraz': 88562,\n",
              " 'help': 61892,\n",
              " 'colorful': 25084,\n",
              " 'cast': 19919,\n",
              " 'characters': 21370,\n",
              " 'trufflehunter': 138646,\n",
              " 'badger': 10189,\n",
              " 'nikabrik': 94323,\n",
              " 'dwarf': 40200,\n",
              " 'clan': 23500,\n",
              " 'embarks': 41711,\n",
              " 'quest': 107118,\n",
              " 'ensure': 43021,\n",
              " 'returned': 112167,\n",
              " 'rightful': 113168,\n",
              " 'heir': 61676,\n",
              " 'year incredible': 150204,\n",
              " 'incredible adventures': 67396,\n",
              " 'adventures lion': 3323,\n",
              " 'lion witch': 79462,\n",
              " 'witch wardrobe': 147776,\n",
              " 'wardrobe peter': 144996,\n",
              " 'peter edmund': 100769,\n",
              " 'edmund lucy': 40985,\n",
              " 'lucy susan': 82452,\n",
              " 'susan pevensie': 130770,\n",
              " 'pevensie return': 100847,\n",
              " 'return narnia': 112134,\n",
              " 'narnia aid': 92348,\n",
              " 'aid young': 4218,\n",
              " 'young prince': 150952,\n",
              " 'prince life': 104832,\n",
              " 'life threatened': 78796,\n",
              " 'threatened evil': 134708,\n",
              " 'evil king': 44601,\n",
              " 'king miraz': 74398,\n",
              " 'miraz help': 88563,\n",
              " 'help colorful': 61941,\n",
              " 'colorful cast': 25085,\n",
              " 'cast new': 19942,\n",
              " 'new characters': 93499,\n",
              " 'characters including': 21392,\n",
              " 'including trufflehunter': 67308,\n",
              " 'trufflehunter badger': 138647,\n",
              " 'badger nikabrik': 10190,\n",
              " 'nikabrik dwarf': 94324,\n",
              " 'dwarf pevensie': 40202,\n",
              " 'pevensie clan': 100845,\n",
              " 'clan embarks': 23505,\n",
              " 'embarks incredible': 41720,\n",
              " 'incredible quest': 67411,\n",
              " 'quest ensure': 107129,\n",
              " 'ensure narnia': 43026,\n",
              " 'narnia returned': 92351,\n",
              " 'returned rightful': 112183,\n",
              " 'rightful heir': 113169,\n",
              " 'heir hope': 61681,\n",
              " 'hope new': 64288,\n",
              " 'new face': 93549,\n",
              " 'face id': 46120,\n",
              " 'threatens': 134737,\n",
              " 'safety': 115744,\n",
              " 'security': 118336,\n",
              " 'nick': 93961,\n",
              " 'fury': 54152,\n",
              " 'director': 36537,\n",
              " 'international': 68856,\n",
              " 'agency': 3773,\n",
              " 'finds': 50079,\n",
              " 'need': 92917,\n",
              " 'team': 132500,\n",
              " 'pull': 106514,\n",
              " 'disaster': 36770,\n",
              " 'spanning': 124705,\n",
              " 'globe': 56679,\n",
              " 'daring': 31736,\n",
              " 'recruitment': 109629,\n",
              " 'effort': 41110,\n",
              " 'assembly': 8402,\n",
              " 'required': 111244,\n",
              " 'unexpected enemy': 140528,\n",
              " 'enemy emerges': 42606,\n",
              " 'emerges threatens': 41840,\n",
              " 'threatens global': 134748,\n",
              " 'global safety': 56667,\n",
              " 'safety security': 115761,\n",
              " 'security nick': 118363,\n",
              " 'nick fury': 93977,\n",
              " 'fury director': 54154,\n",
              " 'director international': 36573,\n",
              " 'international peacekeeping': 68881,\n",
              " 'peacekeeping agency': 99769,\n",
              " 'agency known': 3779,\n",
              " 'known finds': 74878,\n",
              " 'finds need': 50209,\n",
              " 'need team': 92963,\n",
              " 'team pull': 132636,\n",
              " 'pull world': 106536,\n",
              " 'brink disaster': 16563,\n",
              " 'disaster spanning': 36793,\n",
              " 'spanning globe': 124707,\n",
              " ...}"
            ]
          },
          "execution_count": 74,
          "metadata": {},
          "output_type": "execute_result"
        }
      ],
      "source": [
        "tf_new.vocabulary_"
      ]
    },
    {
      "cell_type": "code",
      "execution_count": 75,
      "metadata": {
        "colab": {},
        "colab_type": "code",
        "id": "GGpWsWcaMxw5",
        "outputId": "f0412dda-cd93-4471-95ab-58fb59726519"
      },
      "outputs": [
        {
          "data": {
            "text/plain": [
              "2431"
            ]
          },
          "execution_count": 75,
          "metadata": {},
          "output_type": "execute_result"
        }
      ],
      "source": [
        "tf_new.vocabulary_['action']"
      ]
    },
    {
      "cell_type": "code",
      "execution_count": 76,
      "metadata": {
        "colab": {},
        "colab_type": "code",
        "id": "raobpIGGMxw7",
        "outputId": "79cac19b-aa95-456e-dc57-8b485dda099d"
      },
      "outputs": [
        {
          "data": {
            "text/plain": [
              "title\n",
              "Avatar                                      0\n",
              "Pirates of the Caribbean: At World's End    1\n",
              "dtype: int64"
            ]
          },
          "execution_count": 76,
          "metadata": {},
          "output_type": "execute_result"
        }
      ],
      "source": [
        "movies = movies.reset_index()\n",
        "titles = movies['title']\n",
        "indices = pd.Series(movies.index, index=movies['title'])\n",
        "indices.head(2)"
      ]
    },
    {
      "cell_type": "code",
      "execution_count": 79,
      "metadata": {
        "colab": {},
        "colab_type": "code",
        "id": "xAnmbe07Mxw8"
      },
      "outputs": [],
      "source": [
        "def get_recommendations_new(title):\n",
        "    idx = indices[title]\n",
        "    if type(idx) != np.int64:\n",
        "        if len(idx)>1:\n",
        "            print(\"ALERT: Multiple values\")\n",
        "            idx = idx[0]\n",
        "    sim_scores = list(enumerate(cosine_sim_new[idx]))\n",
        "    sim_scores = sorted(sim_scores, key=lambda x: x[1], reverse=True)\n",
        "    sim_scores = sim_scores[1:31]\n",
        "    movie_indices = [i[0] for i in sim_scores]\n",
        "    return titles.iloc[movie_indices]"
      ]
    },
    {
      "cell_type": "code",
      "execution_count": 80,
      "metadata": {
        "colab": {},
        "colab_type": "code",
        "id": "5xvd2YwAMxw-",
        "outputId": "efe88548-18bf-4700-a80e-4b66dee51f73"
      },
      "outputs": [
        {
          "data": {
            "text/plain": [
              "2731     The Godfather: Part II\n",
              "1873                 Blood Ties\n",
              "3727                 Easy Money\n",
              "2038              Summer of Sam\n",
              "867     The Godfather: Part III\n",
              "3859            Lords of London\n",
              "3409        Criminal Activities\n",
              "2130               The American\n",
              "4226                Nine Queens\n",
              "1225           Mickey Blue Eyes\n",
              "Name: title, dtype: object"
            ]
          },
          "execution_count": 80,
          "metadata": {},
          "output_type": "execute_result"
        }
      ],
      "source": [
        "get_recommendations_new('The Godfather').head(10)"
      ]
    },
    {
      "cell_type": "code",
      "execution_count": 81,
      "metadata": {
        "colab": {},
        "colab_type": "code",
        "id": "S_APPwreMxxA",
        "outputId": "0a2ac312-b9c7-46ad-d813-9178ebffa73d"
      },
      "outputs": [
        {
          "data": {
            "text/plain": [
              "array(['[{\"id\": 18, \"name\": \"Drama\"}, {\"id\": 80, \"name\": \"Crime\"}]'],\n",
              "      dtype=object)"
            ]
          },
          "execution_count": 81,
          "metadata": {},
          "output_type": "execute_result"
        }
      ],
      "source": [
        "movies[movies['title'] == 'The Godfather']['genres'].values"
      ]
    },
    {
      "cell_type": "code",
      "execution_count": 82,
      "metadata": {
        "colab": {},
        "colab_type": "code",
        "id": "cvMiy7miMxxC",
        "outputId": "6310ced1-94c9-4a96-af7a-7158edb79a77"
      },
      "outputs": [
        {
          "data": {
            "text/plain": [
              "array([], dtype=object)"
            ]
          },
          "execution_count": 82,
          "metadata": {},
          "output_type": "execute_result"
        }
      ],
      "source": [
        "movies[movies['title'] == \"It's Such a Beautiful Day\"]['genres'].values"
      ]
    },
    {
      "cell_type": "code",
      "execution_count": 83,
      "metadata": {
        "colab": {},
        "colab_type": "code",
        "id": "iKbTJu8RMxxE",
        "outputId": "285ca7b7-bc6d-49c6-fb96-9a39470b3b39"
      },
      "outputs": [
        {
          "data": {
            "text/plain": [
              "array([], dtype=object)"
            ]
          },
          "execution_count": 83,
          "metadata": {},
          "output_type": "execute_result"
        }
      ],
      "source": [
        "movies[movies['title'] == 'Doctor Who: Last Christmas']['overview'].values"
      ]
    },
    {
      "cell_type": "code",
      "execution_count": 84,
      "metadata": {
        "colab": {},
        "colab_type": "code",
        "id": "70Eub-WBMxxG",
        "outputId": "069db4ac-db26-405b-ca0c-14595aa26e27"
      },
      "outputs": [
        {
          "data": {
            "text/plain": [
              "array([], dtype=object)"
            ]
          },
          "execution_count": 84,
          "metadata": {},
          "output_type": "execute_result"
        }
      ],
      "source": [
        "movies[movies['title'] == '4:44 Last Day on Earth']['overview'].values"
      ]
    },
    {
      "cell_type": "code",
      "execution_count": null,
      "metadata": {
        "colab": {},
        "colab_type": "code",
        "id": "VWNHyxwRMxxI",
        "outputId": "b5dce4ea-0599-44f7-aa8d-80e7502c348b"
      },
      "outputs": [
        {
          "data": {
            "text/plain": [
              "array([\"['Drama', 'Fantasy', 'Sci-Fi']\"], dtype=object)"
            ]
          },
          "execution_count": 36,
          "metadata": {
            "tags": []
          },
          "output_type": "execute_result"
        }
      ],
      "source": [
        "movies[movies['title'] == '20 Years After']['genres'].values"
      ]
    },
    {
      "cell_type": "code",
      "execution_count": null,
      "metadata": {
        "colab": {},
        "colab_type": "code",
        "id": "RfgJLZ_VMxxK",
        "outputId": "6bd2c0b5-ca57-48c5-a13f-3cc40fbacf0e"
      },
      "outputs": [
        {
          "data": {
            "text/plain": [
              "array(['In the middle of nowhere, 20 years after an apocalyptic terrorist event that obliterated the face of the world!'],\n",
              "      dtype=object)"
            ]
          },
          "execution_count": 37,
          "metadata": {
            "tags": []
          },
          "output_type": "execute_result"
        }
      ],
      "source": [
        "movies[movies['title'] == '20 Years After']['overview'].values"
      ]
    },
    {
      "cell_type": "code",
      "execution_count": 85,
      "metadata": {
        "colab": {},
        "colab_type": "code",
        "id": "TRBI1XD9MxxM",
        "outputId": "182ccb51-a7c3-4c69-8829-bb33332103c3",
        "scrolled": false
      },
      "outputs": [
        {
          "data": {
            "text/plain": [
              "4401         The Helix... Loaded\n",
              "922                      Knowing\n",
              "920                        Congo\n",
              "1320                  Switchback\n",
              "2897                      Cypher\n",
              "322            The Fifth Element\n",
              "275              Minority Report\n",
              "4715           Sound of My Voice\n",
              "2264    Dylan Dog: Dead of Night\n",
              "1271                    Pandorum\n",
              "Name: title, dtype: object"
            ]
          },
          "execution_count": 85,
          "metadata": {},
          "output_type": "execute_result"
        }
      ],
      "source": [
        "get_recommendations_new('Inception').head(10)"
      ]
    },
    {
      "cell_type": "code",
      "execution_count": 86,
      "metadata": {
        "colab": {},
        "colab_type": "code",
        "id": "-DFh5RNcMxxN",
        "outputId": "95cc000b-98cc-4580-9356-60405bcadbd0"
      },
      "outputs": [
        {
          "data": {
            "text/plain": [
              "array([], dtype=object)"
            ]
          },
          "execution_count": 86,
          "metadata": {},
          "output_type": "execute_result"
        }
      ],
      "source": [
        "movies[movies['title'] == 'Game Over']['description_genre'].values"
      ]
    },
    {
      "cell_type": "code",
      "execution_count": 87,
      "metadata": {
        "colab": {},
        "colab_type": "code",
        "id": "n1_Se97hMxxP",
        "outputId": "7a49b5ad-a449-469e-896d-9be1dbd7f4b3"
      },
      "outputs": [
        {
          "data": {
            "text/plain": [
              "array(['Cobb, a skilled thief who commits corporate espionage by infiltrating the subconscious of his targets is offered a chance to regain his old life as payment for a task considered to be impossible: \"inception\", the implantation of another person\\'s idea into a target\\'s subconscious.Your mind is the scene of the crime.[{\"id\": 28, \"name\": \"Action\"}, {\"id\": 53, \"name\": \"Thriller\"}, {\"id\": 878, \"name\": \"Science Fiction\"}, {\"id\": 9648, \"name\": \"Mystery\"}, {\"id\": 12, \"name\": \"Adventure\"}][{\"id\": 28, \"name\": \"Action\"}, {\"id\": 53, \"name\": \"Thriller\"}, {\"id\": 878, \"name\": \"Science Fiction\"}, {\"id\": 9648, \"name\": \"Mystery\"}, {\"id\": 12, \"name\": \"Adventure\"}]'],\n",
              "      dtype=object)"
            ]
          },
          "execution_count": 87,
          "metadata": {},
          "output_type": "execute_result"
        }
      ],
      "source": [
        "movies[movies['title'] == 'Inception']['description_genre'].values"
      ]
    },
    {
      "cell_type": "code",
      "execution_count": 88,
      "metadata": {
        "colab": {},
        "colab_type": "code",
        "id": "Ge9f_6c2MxxR",
        "outputId": "d71975e2-f00d-43f5-8e86-c5cfc69a3596"
      },
      "outputs": [
        {
          "data": {
            "text/plain": [
              "4401                 The Helix... Loaded\n",
              "322                    The Fifth Element\n",
              "1191                      Small Soldiers\n",
              "232                        The Wolverine\n",
              "931               Race to Witch Mountain\n",
              "14                          Man of Steel\n",
              "61                     Jupiter Ascending\n",
              "1652                Dragonball Evolution\n",
              "2069    Teenage Mutant Ninja Turtles III\n",
              "46            X-Men: Days of Future Past\n",
              "Name: title, dtype: object"
            ]
          },
          "execution_count": 88,
          "metadata": {},
          "output_type": "execute_result"
        }
      ],
      "source": [
        "get_recommendations_new('Avatar').head(10)"
      ]
    },
    {
      "cell_type": "markdown",
      "metadata": {
        "colab_type": "text",
        "id": "eSlQeR6PMxxU"
      },
      "source": [
        "### IMDB Weighted Average "
      ]
    },
    {
      "cell_type": "code",
      "execution_count": 89,
      "metadata": {
        "colab": {},
        "colab_type": "code",
        "id": "cONT9lRxMxxU",
        "outputId": "f8d59c82-23f0-4df6-aadd-89beab9f0547"
      },
      "outputs": [
        {
          "data": {
            "text/plain": [
              "5.6529252550489275"
            ]
          },
          "execution_count": 89,
          "metadata": {},
          "output_type": "execute_result"
        }
      ],
      "source": [
        "# this is V\n",
        "vote_counts = movies[movies['vote_count'].notnull()]['vote_count'].astype('int')\n",
        "\n",
        "# this is R\n",
        "vote_averages = movies[movies['vote_average'].notnull()]['vote_average'].astype('int')\n",
        "\n",
        "# this is C\n",
        "C = vote_averages.mean()\n",
        "C"
      ]
    },
    {
      "cell_type": "code",
      "execution_count": 90,
      "metadata": {
        "colab": {},
        "colab_type": "code",
        "id": "7wpPHYvoMxxW",
        "outputId": "67224abc-a78a-47f4-cd8c-abcdf20a46dc"
      },
      "outputs": [
        {
          "data": {
            "text/plain": [
              "3040.8999999999996"
            ]
          },
          "execution_count": 90,
          "metadata": {},
          "output_type": "execute_result"
        }
      ],
      "source": [
        "m = vote_counts.quantile(0.95)\n",
        "m"
      ]
    },
    {
      "cell_type": "code",
      "execution_count": 91,
      "metadata": {
        "colab": {},
        "colab_type": "code",
        "id": "L6ZsvGmSMxxY"
      },
      "outputs": [],
      "source": [
        "def weighted_rating(x):\n",
        "    v = x['vote_count']\n",
        "    R = x['vote_average']\n",
        "    return (v/(v+m) * R) + (m/(m+v) * C)"
      ]
    },
    {
      "cell_type": "markdown",
      "metadata": {
        "colab_type": "text",
        "id": "Len7O4hVMxxa"
      },
      "source": [
        "## Improved Recommendations"
      ]
    },
    {
      "cell_type": "code",
      "execution_count": 92,
      "metadata": {
        "colab": {},
        "colab_type": "code",
        "id": "60kQ6sXaMxxb"
      },
      "outputs": [],
      "source": [
        "def improved_recommendations(title):\n",
        "    idx = indices[title]\n",
        "    sim_scores = list(enumerate(cosine_sim_new[idx]))\n",
        "    sim_scores = sorted(sim_scores, key=lambda x: x[1], reverse=True)\n",
        "    sim_scores = sim_scores[1:26]\n",
        "    movie_indices = [i[0] for i in sim_scores]\n",
        "    \n",
        "    movies_x = movies.iloc[movie_indices][['title', 'vote_count', 'vote_average']]\n",
        "    vote_counts = movies_x[movies_x['vote_count'].notnull()]['vote_count'].astype('int')\n",
        "    vote_averages = movies_x[movies_x['vote_average'].notnull()]['vote_average'].astype('int')\n",
        "    C = vote_averages.mean()\n",
        "    m = vote_counts.quantile(0.60)\n",
        "    qualified = movies_x[(movies_x['vote_count'] >= m) & (movies_x['vote_count'].notnull()) &\n",
        "                       (movies_x['vote_average'].notnull())]\n",
        "    qualified['vote_count'] = qualified['vote_count'].astype('int')\n",
        "    qualified['vote_average'] = qualified['vote_average'].astype('int')\n",
        "    qualified['wr'] = qualified.apply(weighted_rating, axis=1)\n",
        "    qualified = qualified.sort_values('wr', ascending=False).head(10)\n",
        "    return qualified"
      ]
    },
    {
      "cell_type": "code",
      "execution_count": 95,
      "metadata": {
        "colab": {},
        "colab_type": "code",
        "id": "lL3I_RVfMxxd",
        "outputId": "186c6bd5-dfbb-4b04-88d9-f2a216541441",
        "scrolled": true
      },
      "outputs": [
        {
          "name": "stderr",
          "output_type": "stream",
          "text": [
            "C:\\Users\\USER\\AppData\\Local\\Temp\\ipykernel_16204\\3457986007.py:15: SettingWithCopyWarning: \n",
            "A value is trying to be set on a copy of a slice from a DataFrame.\n",
            "Try using .loc[row_indexer,col_indexer] = value instead\n",
            "\n",
            "See the caveats in the documentation: https://pandas.pydata.org/pandas-docs/stable/user_guide/indexing.html#returning-a-view-versus-a-copy\n",
            "  qualified['vote_count'] = qualified['vote_count'].astype('int')\n",
            "C:\\Users\\USER\\AppData\\Local\\Temp\\ipykernel_16204\\3457986007.py:16: SettingWithCopyWarning: \n",
            "A value is trying to be set on a copy of a slice from a DataFrame.\n",
            "Try using .loc[row_indexer,col_indexer] = value instead\n",
            "\n",
            "See the caveats in the documentation: https://pandas.pydata.org/pandas-docs/stable/user_guide/indexing.html#returning-a-view-versus-a-copy\n",
            "  qualified['vote_average'] = qualified['vote_average'].astype('int')\n",
            "C:\\Users\\USER\\AppData\\Local\\Temp\\ipykernel_16204\\3457986007.py:17: SettingWithCopyWarning: \n",
            "A value is trying to be set on a copy of a slice from a DataFrame.\n",
            "Try using .loc[row_indexer,col_indexer] = value instead\n",
            "\n",
            "See the caveats in the documentation: https://pandas.pydata.org/pandas-docs/stable/user_guide/indexing.html#returning-a-view-versus-a-copy\n",
            "  qualified['wr'] = qualified.apply(weighted_rating, axis=1)\n"
          ]
        },
        {
          "data": {
            "text/html": [
              "<div>\n",
              "<style scoped>\n",
              "    .dataframe tbody tr th:only-of-type {\n",
              "        vertical-align: middle;\n",
              "    }\n",
              "\n",
              "    .dataframe tbody tr th {\n",
              "        vertical-align: top;\n",
              "    }\n",
              "\n",
              "    .dataframe thead th {\n",
              "        text-align: right;\n",
              "    }\n",
              "</style>\n",
              "<table border=\"1\" class=\"dataframe\">\n",
              "  <thead>\n",
              "    <tr style=\"text-align: right;\">\n",
              "      <th></th>\n",
              "      <th>title</th>\n",
              "      <th>vote_count</th>\n",
              "      <th>vote_average</th>\n",
              "      <th>wr</th>\n",
              "    </tr>\n",
              "  </thead>\n",
              "  <tbody>\n",
              "    <tr>\n",
              "      <th>2731</th>\n",
              "      <td>The Godfather: Part II</td>\n",
              "      <td>3338</td>\n",
              "      <td>8</td>\n",
              "      <td>6.881121</td>\n",
              "    </tr>\n",
              "    <tr>\n",
              "      <th>867</th>\n",
              "      <td>The Godfather: Part III</td>\n",
              "      <td>1546</td>\n",
              "      <td>7</td>\n",
              "      <td>6.106952</td>\n",
              "    </tr>\n",
              "    <tr>\n",
              "      <th>879</th>\n",
              "      <td>Law Abiding Citizen</td>\n",
              "      <td>1486</td>\n",
              "      <td>7</td>\n",
              "      <td>6.095116</td>\n",
              "    </tr>\n",
              "    <tr>\n",
              "      <th>892</th>\n",
              "      <td>Casino</td>\n",
              "      <td>1307</td>\n",
              "      <td>7</td>\n",
              "      <td>6.057863</td>\n",
              "    </tr>\n",
              "    <tr>\n",
              "      <th>1394</th>\n",
              "      <td>Donnie Brasco</td>\n",
              "      <td>1147</td>\n",
              "      <td>7</td>\n",
              "      <td>6.021868</td>\n",
              "    </tr>\n",
              "    <tr>\n",
              "      <th>980</th>\n",
              "      <td>The Life of David Gale</td>\n",
              "      <td>480</td>\n",
              "      <td>7</td>\n",
              "      <td>5.836570</td>\n",
              "    </tr>\n",
              "    <tr>\n",
              "      <th>1486</th>\n",
              "      <td>The Punisher</td>\n",
              "      <td>766</td>\n",
              "      <td>6</td>\n",
              "      <td>5.722761</td>\n",
              "    </tr>\n",
              "    <tr>\n",
              "      <th>1178</th>\n",
              "      <td>Vantage Point</td>\n",
              "      <td>716</td>\n",
              "      <td>6</td>\n",
              "      <td>5.719072</td>\n",
              "    </tr>\n",
              "    <tr>\n",
              "      <th>2130</th>\n",
              "      <td>The American</td>\n",
              "      <td>481</td>\n",
              "      <td>5</td>\n",
              "      <td>5.563753</td>\n",
              "    </tr>\n",
              "    <tr>\n",
              "      <th>1664</th>\n",
              "      <td>Dead Man Down</td>\n",
              "      <td>638</td>\n",
              "      <td>5</td>\n",
              "      <td>5.539694</td>\n",
              "    </tr>\n",
              "  </tbody>\n",
              "</table>\n",
              "</div>"
            ],
            "text/plain": [
              "                        title  vote_count  vote_average        wr\n",
              "2731   The Godfather: Part II        3338             8  6.881121\n",
              "867   The Godfather: Part III        1546             7  6.106952\n",
              "879       Law Abiding Citizen        1486             7  6.095116\n",
              "892                    Casino        1307             7  6.057863\n",
              "1394            Donnie Brasco        1147             7  6.021868\n",
              "980    The Life of David Gale         480             7  5.836570\n",
              "1486             The Punisher         766             6  5.722761\n",
              "1178            Vantage Point         716             6  5.719072\n",
              "2130             The American         481             5  5.563753\n",
              "1664            Dead Man Down         638             5  5.539694"
            ]
          },
          "execution_count": 95,
          "metadata": {},
          "output_type": "execute_result"
        }
      ],
      "source": [
        "improved_recommendations('The Godfather').head(10)"
      ]
    },
    {
      "cell_type": "code",
      "execution_count": 96,
      "metadata": {
        "colab": {},
        "colab_type": "code",
        "id": "LP7vK0wgMxxf",
        "outputId": "70375267-b94f-4027-bfea-924d65581d81"
      },
      "outputs": [
        {
          "name": "stderr",
          "output_type": "stream",
          "text": [
            "C:\\Users\\USER\\AppData\\Local\\Temp\\ipykernel_16204\\3457986007.py:15: SettingWithCopyWarning: \n",
            "A value is trying to be set on a copy of a slice from a DataFrame.\n",
            "Try using .loc[row_indexer,col_indexer] = value instead\n",
            "\n",
            "See the caveats in the documentation: https://pandas.pydata.org/pandas-docs/stable/user_guide/indexing.html#returning-a-view-versus-a-copy\n",
            "  qualified['vote_count'] = qualified['vote_count'].astype('int')\n",
            "C:\\Users\\USER\\AppData\\Local\\Temp\\ipykernel_16204\\3457986007.py:16: SettingWithCopyWarning: \n",
            "A value is trying to be set on a copy of a slice from a DataFrame.\n",
            "Try using .loc[row_indexer,col_indexer] = value instead\n",
            "\n",
            "See the caveats in the documentation: https://pandas.pydata.org/pandas-docs/stable/user_guide/indexing.html#returning-a-view-versus-a-copy\n",
            "  qualified['vote_average'] = qualified['vote_average'].astype('int')\n",
            "C:\\Users\\USER\\AppData\\Local\\Temp\\ipykernel_16204\\3457986007.py:17: SettingWithCopyWarning: \n",
            "A value is trying to be set on a copy of a slice from a DataFrame.\n",
            "Try using .loc[row_indexer,col_indexer] = value instead\n",
            "\n",
            "See the caveats in the documentation: https://pandas.pydata.org/pandas-docs/stable/user_guide/indexing.html#returning-a-view-versus-a-copy\n",
            "  qualified['wr'] = qualified.apply(weighted_rating, axis=1)\n"
          ]
        },
        {
          "data": {
            "text/html": [
              "<div>\n",
              "<style scoped>\n",
              "    .dataframe tbody tr th:only-of-type {\n",
              "        vertical-align: middle;\n",
              "    }\n",
              "\n",
              "    .dataframe tbody tr th {\n",
              "        vertical-align: top;\n",
              "    }\n",
              "\n",
              "    .dataframe thead th {\n",
              "        text-align: right;\n",
              "    }\n",
              "</style>\n",
              "<table border=\"1\" class=\"dataframe\">\n",
              "  <thead>\n",
              "    <tr style=\"text-align: right;\">\n",
              "      <th></th>\n",
              "      <th>title</th>\n",
              "      <th>vote_count</th>\n",
              "      <th>vote_average</th>\n",
              "      <th>wr</th>\n",
              "    </tr>\n",
              "  </thead>\n",
              "  <tbody>\n",
              "    <tr>\n",
              "      <th>46</th>\n",
              "      <td>X-Men: Days of Future Past</td>\n",
              "      <td>6032</td>\n",
              "      <td>7</td>\n",
              "      <td>6.548510</td>\n",
              "    </tr>\n",
              "    <tr>\n",
              "      <th>322</th>\n",
              "      <td>The Fifth Element</td>\n",
              "      <td>3885</td>\n",
              "      <td>7</td>\n",
              "      <td>6.408551</td>\n",
              "    </tr>\n",
              "    <tr>\n",
              "      <th>31</th>\n",
              "      <td>Iron Man 3</td>\n",
              "      <td>8806</td>\n",
              "      <td>6</td>\n",
              "      <td>5.910912</td>\n",
              "    </tr>\n",
              "    <tr>\n",
              "      <th>14</th>\n",
              "      <td>Man of Steel</td>\n",
              "      <td>6359</td>\n",
              "      <td>6</td>\n",
              "      <td>5.887720</td>\n",
              "    </tr>\n",
              "    <tr>\n",
              "      <th>232</th>\n",
              "      <td>The Wolverine</td>\n",
              "      <td>4053</td>\n",
              "      <td>6</td>\n",
              "      <td>5.851222</td>\n",
              "    </tr>\n",
              "    <tr>\n",
              "      <th>495</th>\n",
              "      <td>Journey 2: The Mysterious Island</td>\n",
              "      <td>1030</td>\n",
              "      <td>5</td>\n",
              "      <td>5.487725</td>\n",
              "    </tr>\n",
              "    <tr>\n",
              "      <th>505</th>\n",
              "      <td>The League of Extraordinary Gentlemen</td>\n",
              "      <td>1155</td>\n",
              "      <td>5</td>\n",
              "      <td>5.473195</td>\n",
              "    </tr>\n",
              "    <tr>\n",
              "      <th>10</th>\n",
              "      <td>Superman Returns</td>\n",
              "      <td>1400</td>\n",
              "      <td>5</td>\n",
              "      <td>5.447090</td>\n",
              "    </tr>\n",
              "    <tr>\n",
              "      <th>61</th>\n",
              "      <td>Jupiter Ascending</td>\n",
              "      <td>2768</td>\n",
              "      <td>5</td>\n",
              "      <td>5.341800</td>\n",
              "    </tr>\n",
              "    <tr>\n",
              "      <th>72</th>\n",
              "      <td>Suicide Squad</td>\n",
              "      <td>7458</td>\n",
              "      <td>5</td>\n",
              "      <td>5.189113</td>\n",
              "    </tr>\n",
              "  </tbody>\n",
              "</table>\n",
              "</div>"
            ],
            "text/plain": [
              "                                     title  vote_count  vote_average        wr\n",
              "46              X-Men: Days of Future Past        6032             7  6.548510\n",
              "322                      The Fifth Element        3885             7  6.408551\n",
              "31                              Iron Man 3        8806             6  5.910912\n",
              "14                            Man of Steel        6359             6  5.887720\n",
              "232                          The Wolverine        4053             6  5.851222\n",
              "495       Journey 2: The Mysterious Island        1030             5  5.487725\n",
              "505  The League of Extraordinary Gentlemen        1155             5  5.473195\n",
              "10                        Superman Returns        1400             5  5.447090\n",
              "61                       Jupiter Ascending        2768             5  5.341800\n",
              "72                           Suicide Squad        7458             5  5.189113"
            ]
          },
          "execution_count": 96,
          "metadata": {},
          "output_type": "execute_result"
        }
      ],
      "source": [
        "improved_recommendations('Avatar').head(10)"
      ]
    },
    {
      "cell_type": "code",
      "execution_count": null,
      "metadata": {
        "colab": {},
        "colab_type": "code",
        "id": "unJQETRgMxxh"
      },
      "outputs": [],
      "source": []
    }
  ],
  "metadata": {
    "colab": {
      "collapsed_sections": [],
      "name": "movie_similarity_based_recs.ipynb",
      "provenance": []
    },
    "kernelspec": {
      "display_name": "Python 3",
      "language": "python",
      "name": "python3"
    },
    "language_info": {
      "codemirror_mode": {
        "name": "ipython",
        "version": 3
      },
      "file_extension": ".py",
      "mimetype": "text/x-python",
      "name": "python",
      "nbconvert_exporter": "python",
      "pygments_lexer": "ipython3",
      "version": "3.10.11"
    }
  },
  "nbformat": 4,
  "nbformat_minor": 0
}
