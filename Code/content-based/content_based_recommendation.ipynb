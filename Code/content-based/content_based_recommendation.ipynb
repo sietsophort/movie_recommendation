{
  "cells": [
    {
      "cell_type": "markdown",
      "metadata": {
        "colab_type": "text",
        "id": "pEDQblEbFMFP"
      },
      "source": [
        "This method explores the genre and rating associated with the movie and the customer to develop customer vector based on the content. The recommendations are generated using this customer vector."
      ]
    },
    {
      "cell_type": "code",
      "execution_count": 4,
      "metadata": {
        "colab": {},
        "colab_type": "code",
        "id": "3EdPIM8gE75h",
        "scrolled": true
      },
      "outputs": [],
      "source": [
        "import numpy as np\n",
        "import pandas as pd\n",
        "import matplotlib.pyplot as plt\n",
        "from ast import literal_eval"
      ]
    },
    {
      "cell_type": "code",
      "execution_count": 5,
      "metadata": {
        "colab": {},
        "colab_type": "code",
        "id": "-0I2fW5_E75j"
      },
      "outputs": [],
      "source": [
        "movies = pd.read_csv(\"../../data_test/pro_movies.csv\", converters={\"genres\": literal_eval})"
      ]
    },
    {
      "cell_type": "code",
      "execution_count": 6,
      "metadata": {
        "colab": {},
        "colab_type": "code",
        "id": "DMKuwncvE75m"
      },
      "outputs": [],
      "source": [
        "# Load the training data\n",
        "ratings_train = pd.read_csv(\"../../data_test/training_data.csv\", converters={\"genres\": literal_eval, \"tag\": literal_eval})"
      ]
    },
    {
      "cell_type": "code",
      "execution_count": 7,
      "metadata": {},
      "outputs": [
        {
          "data": {
            "text/html": [
              "<div>\n",
              "<style scoped>\n",
              "    .dataframe tbody tr th:only-of-type {\n",
              "        vertical-align: middle;\n",
              "    }\n",
              "\n",
              "    .dataframe tbody tr th {\n",
              "        vertical-align: top;\n",
              "    }\n",
              "\n",
              "    .dataframe thead th {\n",
              "        text-align: right;\n",
              "    }\n",
              "</style>\n",
              "<table border=\"1\" class=\"dataframe\">\n",
              "  <thead>\n",
              "    <tr style=\"text-align: right;\">\n",
              "      <th></th>\n",
              "      <th>userId</th>\n",
              "      <th>movieId</th>\n",
              "      <th>rating</th>\n",
              "      <th>timestamp</th>\n",
              "      <th>genres</th>\n",
              "      <th>tag</th>\n",
              "    </tr>\n",
              "  </thead>\n",
              "  <tbody>\n",
              "    <tr>\n",
              "      <th>0</th>\n",
              "      <td>1</td>\n",
              "      <td>1091</td>\n",
              "      <td>1.5</td>\n",
              "      <td>1256677471</td>\n",
              "      <td>[Comedy]</td>\n",
              "      <td>[]</td>\n",
              "    </tr>\n",
              "    <tr>\n",
              "      <th>1</th>\n",
              "      <td>1</td>\n",
              "      <td>1257</td>\n",
              "      <td>4.5</td>\n",
              "      <td>1256677460</td>\n",
              "      <td>[Comedy, Romance]</td>\n",
              "      <td>[]</td>\n",
              "    </tr>\n",
              "    <tr>\n",
              "      <th>2</th>\n",
              "      <td>1</td>\n",
              "      <td>1449</td>\n",
              "      <td>4.5</td>\n",
              "      <td>1256677264</td>\n",
              "      <td>[Comedy]</td>\n",
              "      <td>[]</td>\n",
              "    </tr>\n",
              "    <tr>\n",
              "      <th>3</th>\n",
              "      <td>1</td>\n",
              "      <td>1590</td>\n",
              "      <td>2.5</td>\n",
              "      <td>1256677236</td>\n",
              "      <td>[Horror, Sci-Fi, Thriller]</td>\n",
              "      <td>[]</td>\n",
              "    </tr>\n",
              "    <tr>\n",
              "      <th>4</th>\n",
              "      <td>1</td>\n",
              "      <td>1591</td>\n",
              "      <td>1.5</td>\n",
              "      <td>1256677475</td>\n",
              "      <td>[Action, Adventure, Sci-Fi, Thriller]</td>\n",
              "      <td>[]</td>\n",
              "    </tr>\n",
              "  </tbody>\n",
              "</table>\n",
              "</div>"
            ],
            "text/plain": [
              "   userId  movieId  rating   timestamp                                 genres   \n",
              "0       1     1091     1.5  1256677471                               [Comedy]  \\\n",
              "1       1     1257     4.5  1256677460                      [Comedy, Romance]   \n",
              "2       1     1449     4.5  1256677264                               [Comedy]   \n",
              "3       1     1590     2.5  1256677236             [Horror, Sci-Fi, Thriller]   \n",
              "4       1     1591     1.5  1256677475  [Action, Adventure, Sci-Fi, Thriller]   \n",
              "\n",
              "  tag  \n",
              "0  []  \n",
              "1  []  \n",
              "2  []  \n",
              "3  []  \n",
              "4  []  "
            ]
          },
          "execution_count": 7,
          "metadata": {},
          "output_type": "execute_result"
        }
      ],
      "source": [
        "ratings_train.head()"
      ]
    },
    {
      "cell_type": "code",
      "execution_count": 8,
      "metadata": {
        "colab": {},
        "colab_type": "code",
        "id": "pCjakau0E75o",
        "outputId": "c3abde85-c349-4726-db4a-87a2ac8ba259",
        "scrolled": false
      },
      "outputs": [
        {
          "data": {
            "text/plain": [
              "{'Adventure': 0,\n",
              " 'Animation': 1,\n",
              " 'Children': 2,\n",
              " 'Comedy': 3,\n",
              " 'Fantasy': 4,\n",
              " 'Romance': 5,\n",
              " 'Drama': 6,\n",
              " 'Action': 7,\n",
              " 'Crime': 8,\n",
              " 'Thriller': 9,\n",
              " 'Horror': 10,\n",
              " 'Mystery': 11,\n",
              " 'Sci-Fi': 12,\n",
              " 'IMAX': 13,\n",
              " 'Documentary': 14,\n",
              " 'War': 15,\n",
              " 'Musical': 16,\n",
              " 'Western': 17,\n",
              " 'Film-Noir': 18,\n",
              " '(no genres listed)': 19}"
            ]
          },
          "execution_count": 8,
          "metadata": {},
          "output_type": "execute_result"
        }
      ],
      "source": [
        "# Get unique genres from the data\n",
        "unique_genre = movies['genres'].explode().unique()\n",
        "\n",
        "# Get the count of each genre\n",
        "genre_distribution = ratings_train['genres'].explode().value_counts()\n",
        "\n",
        "# Make a dict assigning an index to a genre\n",
        "genre_dict = {k: v for v, k in enumerate(unique_genre)}\n",
        "genre_dict"
      ]
    },
    {
      "cell_type": "code",
      "execution_count": 9,
      "metadata": {},
      "outputs": [
        {
          "data": {
            "image/png": "[encoded data removed]",
            "text/plain": [
              "<Figure size 640x480 with 1 Axes>"
            ]
          },
          "metadata": {},
          "output_type": "display_data"
        }
      ],
      "source": [
        "import matplotlib.pyplot as plt\n",
        "\n",
        "# Calculate genre distribution\n",
        "genre_distribution = movies['genres'].explode().value_counts()\n",
        "\n",
        "# Add 'persontag' category with a count of 0 if it doesn't exist\n",
        "if 'persontag' not in genre_distribution.index:\n",
        "    genre_distribution['persontag'] = 0\n",
        "\n",
        "# Plot the pie chart with percentage values\n",
        "plt.pie(genre_distribution.values, labels=genre_distribution.index, autopct='%1.1f%%')\n",
        "\n",
        "# Display the chart\n",
        "plt.show()\n"
      ]
    },
    {
      "cell_type": "code",
      "execution_count": 10,
      "metadata": {
        "colab": {},
        "colab_type": "code",
        "id": "0HXrmzdaE75r",
        "outputId": "b398e82a-6484-4834-e85a-a0d76bee07e6"
      },
      "outputs": [],
      "source": [
        "# import plotly.express as px \n",
        "# fig = px.pie(genre_distribution, values = genre_distribution.values, names = genre_distribution.keys(), \n",
        "#              title='Genre distribution') \n",
        "# fig.show()\n",
        "# plt.pie(genre_distribution.values, labels = genre_distribution.keys())\n",
        "# plt.show()"
      ]
    },
    {
      "cell_type": "code",
      "execution_count": 11,
      "metadata": {
        "colab": {},
        "colab_type": "code",
        "id": "_G9Om5kLE75y"
      },
      "outputs": [],
      "source": [
        "# # Create an empty column named 'movie_vector' in the 'movies' DataFrame\n",
        "# movies['movie_vector'] = \"\"\n",
        "\n",
        "# # Iterate over each row in the 'movies' DataFrame\n",
        "# for ind, row in movies.iterrows():\n",
        "#     # Retrieve the 'genres' value for the current row\n",
        "#     genres = row.genres\n",
        "\n",
        "#     # Create a numpy array of zeros with the length of genre_dict\n",
        "#     movie_vector = np.zeros(len(genre_dict))\n",
        "\n",
        "#     # Iterate over each genre in the 'genres' list\n",
        "#     for g in genres:\n",
        "#         # Set the corresponding index of 'movie_vector' to 1 for each genre\n",
        "#         movie_vector[genre_dict[g]] = 1\n",
        "\n",
        "#     # Assign the calculated 'movie_vector' to the 'movie_vector' column for the current row\n",
        "#     movies.at[ind, 'movie_vector'] = movie_vector\n",
        "\n",
        "# # Save the modified 'movies' DataFrame to a CSV file named 'movie_vector.csv'\n",
        "# movies.to_csv(\"movie_vector.csv\")\n"
      ]
    },
    {
      "cell_type": "code",
      "execution_count": 12,
      "metadata": {},
      "outputs": [
        {
          "name": "stderr",
          "output_type": "stream",
          "text": [
            "C:\\Users\\USER\\AppData\\Local\\Packages\\PythonSoftwareFoundation.Python.3.10_qbz5n2kfra8p0\\LocalCache\\local-packages\\Python310\\site-packages\\sklearn\\preprocessing\\_encoders.py:868: FutureWarning: `sparse` was renamed to `sparse_output` in version 1.2 and will be removed in 1.4. `sparse_output` is ignored unless you leave `sparse` to its default value.\n",
            "  warnings.warn(\n"
          ]
        }
      ],
      "source": [
        "import pandas as pd\n",
        "from sklearn.preprocessing import OneHotEncoder\n",
        "\n",
        "# Create an instance of the OneHotEncoder\n",
        "encoder = OneHotEncoder(sparse=False)\n",
        "\n",
        "# Convert the lists in the \"genres\" column to strings\n",
        "movies['genres'] = movies['genres'].apply(lambda x: ' '.join(x))\n",
        "\n",
        "# Fit and transform the \"genres\" column using one-hot encoding\n",
        "genre_encoded = encoder.fit_transform(movies['genres'].values.reshape(-1, 1))\n",
        "\n",
        "# Create a DataFrame from the one-hot encoded array\n",
        "genre_encoded_df = pd.DataFrame(genre_encoded, columns=encoder.categories_[0])\n",
        "\n",
        "# Concatenate the original DataFrame with the one-hot encoded DataFrame\n",
        "movies_encoded = pd.concat([movies, genre_encoded_df], axis=1)\n",
        "\n",
        "# Save the final DataFrame\n",
        "movies_encoded.to_csv(\"movie_vector.csv\", index=False)\n"
      ]
    },
    {
      "cell_type": "code",
      "execution_count": 13,
      "metadata": {
        "colab": {},
        "colab_type": "code",
        "id": "noGaua-YE750",
        "outputId": "32a50a7c-3551-444a-bbd0-93b90a0da6dd",
        "scrolled": true
      },
      "outputs": [
        {
          "data": {
            "text/html": [
              "<div>\n",
              "<style scoped>\n",
              "    .dataframe tbody tr th:only-of-type {\n",
              "        vertical-align: middle;\n",
              "    }\n",
              "\n",
              "    .dataframe tbody tr th {\n",
              "        vertical-align: top;\n",
              "    }\n",
              "\n",
              "    .dataframe thead th {\n",
              "        text-align: right;\n",
              "    }\n",
              "</style>\n",
              "<table border=\"1\" class=\"dataframe\">\n",
              "  <thead>\n",
              "    <tr style=\"text-align: right;\">\n",
              "      <th></th>\n",
              "      <th>movieId</th>\n",
              "      <th>title</th>\n",
              "      <th>genres</th>\n",
              "    </tr>\n",
              "  </thead>\n",
              "  <tbody>\n",
              "    <tr>\n",
              "      <th>0</th>\n",
              "      <td>1</td>\n",
              "      <td>Toy Story (1995)</td>\n",
              "      <td>Adventure Animation Children Comedy Fantasy</td>\n",
              "    </tr>\n",
              "    <tr>\n",
              "      <th>1</th>\n",
              "      <td>2</td>\n",
              "      <td>Jumanji (1995)</td>\n",
              "      <td>Adventure Children Fantasy</td>\n",
              "    </tr>\n",
              "    <tr>\n",
              "      <th>2</th>\n",
              "      <td>3</td>\n",
              "      <td>Grumpier Old Men (1995)</td>\n",
              "      <td>Comedy Romance</td>\n",
              "    </tr>\n",
              "    <tr>\n",
              "      <th>3</th>\n",
              "      <td>4</td>\n",
              "      <td>Waiting to Exhale (1995)</td>\n",
              "      <td>Comedy Drama Romance</td>\n",
              "    </tr>\n",
              "    <tr>\n",
              "      <th>4</th>\n",
              "      <td>5</td>\n",
              "      <td>Father of the Bride Part II (1995)</td>\n",
              "      <td>Comedy</td>\n",
              "    </tr>\n",
              "  </tbody>\n",
              "</table>\n",
              "</div>"
            ],
            "text/plain": [
              "   movieId                               title   \n",
              "0        1                    Toy Story (1995)  \\\n",
              "1        2                      Jumanji (1995)   \n",
              "2        3             Grumpier Old Men (1995)   \n",
              "3        4            Waiting to Exhale (1995)   \n",
              "4        5  Father of the Bride Part II (1995)   \n",
              "\n",
              "                                        genres  \n",
              "0  Adventure Animation Children Comedy Fantasy  \n",
              "1                   Adventure Children Fantasy  \n",
              "2                               Comedy Romance  \n",
              "3                         Comedy Drama Romance  \n",
              "4                                       Comedy  "
            ]
          },
          "execution_count": 13,
          "metadata": {},
          "output_type": "execute_result"
        }
      ],
      "source": [
        "movies.head()"
      ]
    },
    {
      "cell_type": "code",
      "execution_count": 14,
      "metadata": {
        "colab": {},
        "colab_type": "code",
        "id": "MBpbLupqE752"
      },
      "outputs": [],
      "source": [
        "user_ids = ratings_train['userId'].unique()\n",
        "# Get unique user IDs from the \"userId\" column in the \"ratings_train\" DataFrame\n",
        "\n",
        "user_df = pd.DataFrame(columns=['userId', 'user_vector', 'avg_rating', 'num_movies_rated'])\n",
        "# Create an empty DataFrame with columns: 'userId', 'user_vector', 'avg_rating', 'num_movies_rated'\n",
        "\n",
        "for user_id in user_ids:\n",
        "    # Iterate over each unique user ID\n",
        "    user_rating_df = ratings_train[(ratings_train['userId'] == user_id)]\n",
        "    # Filter the \"ratings_train\" DataFrame to get rows where the 'userId' matches the current user ID\n",
        "    \n",
        "    user_vector = np.zeros(len(genre_dict))\n",
        "    # Create an array of zeros with length equal to the number of genres in the \"genre_dict\"\n",
        "    count_vector = np.zeros(len(genre_dict))\n",
        "    # Create another array of zeros to keep track of the number of movies rated in each genre\n",
        "    \n",
        "    user_avg_rating = 0\n",
        "    movies_rated_count = 0\n",
        "    # Initialize variables to calculate the average rating and number of movies rated by the user\n",
        "    \n",
        "    for _, row in user_rating_df.iterrows():\n",
        "        # Iterate over each row in the filtered DataFrame for the current user\n",
        "        user_avg_rating += row.rating\n",
        "        # Add the rating to the user's average rating\n",
        "        movies_rated_count += 1\n",
        "        # Increment the count of movies rated by the user\n",
        "        \n",
        "        genres = row.genres\n",
        "        # Get the genres of the current movie\n",
        "        \n",
        "        user_movie_vector = np.zeros(len(genre_dict))\n",
        "        # Create an array of zeros to represent the user's preference for each genre in the movie\n",
        "        \n",
        "        for g in genres:\n",
        "            user_movie_vector[genre_dict[g]] = 1\n",
        "            # Set the value of the corresponding genre index in the user's movie vector to 1\n",
        "            count_vector[genre_dict[g]] += 1\n",
        "            # Increment the count of movies rated in the genre\n",
        "            \n",
        "        user_vector += user_movie_vector * row.rating\n",
        "        # Add the weighted movie vector to the user's overall vector based on the movie's rating\n",
        "\n",
        "    count_vector = np.where(count_vector == 0, 1, count_vector)\n",
        "    # Replace any zero values in the count vector with 1 to avoid division by zero\n",
        "    user_vector = np.divide(user_vector, count_vector)\n",
        "    # Divide the user vector by the count vector to get the average preference for each genre\n",
        "    user_avg_rating /= movies_rated_count\n",
        "    # Calculate the average rating by dividing the sum of ratings by the number of movies rated\n",
        "    \n",
        "    row_df = pd.DataFrame([[user_id, user_vector, user_avg_rating, movies_rated_count]],\n",
        "                          columns=['userId', 'user_vector', 'avg_rating', 'num_movies_rated'])\n",
        "    # Create a DataFrame with the user ID, user vector, average rating, and number of movies rated\n",
        "    user_df = pd.concat([user_df, row_df], ignore_index=True)\n",
        "    # Concatenate the row DataFrame with the user DataFrame\n",
        "# After the loop finishes, the user_df DataFrame will contain the user vectors, average ratings,\n",
        "# and number of movies rated for each user\n"
      ]
    },
    {
      "cell_type": "code",
      "execution_count": null,
      "metadata": {
        "colab": {},
        "colab_type": "code",
        "id": "a4HUlsrME754"
      },
      "outputs": [],
      "source": [
        "# Save the final dataframe\n",
        "user_df.to_csv(\"user_info.csv\")"
      ]
    },
    {
      "cell_type": "code",
      "execution_count": null,
      "metadata": {
        "colab": {},
        "colab_type": "code",
        "id": "1Oxo_uJBE756",
        "outputId": "90805676-9130-4c84-f84f-6b7b4bb971fe"
      },
      "outputs": [
        {
          "data": {
            "text/html": [
              "<div>\n",
              "<style scoped>\n",
              "    .dataframe tbody tr th:only-of-type {\n",
              "        vertical-align: middle;\n",
              "    }\n",
              "\n",
              "    .dataframe tbody tr th {\n",
              "        vertical-align: top;\n",
              "    }\n",
              "\n",
              "    .dataframe thead th {\n",
              "        text-align: right;\n",
              "    }\n",
              "</style>\n",
              "<table border=\"1\" class=\"dataframe\">\n",
              "  <thead>\n",
              "    <tr style=\"text-align: right;\">\n",
              "      <th></th>\n",
              "      <th>userId</th>\n",
              "      <th>user_vector</th>\n",
              "      <th>avg_rating</th>\n",
              "      <th>num_movies_rated</th>\n",
              "    </tr>\n",
              "  </thead>\n",
              "  <tbody>\n",
              "    <tr>\n",
              "      <th>0</th>\n",
              "      <td>1</td>\n",
              "      <td>[4.391891891891892, 4.6521739130434785, 4.4857...</td>\n",
              "      <td>4.376344</td>\n",
              "      <td>186</td>\n",
              "    </tr>\n",
              "    <tr>\n",
              "      <th>1</th>\n",
              "      <td>2</td>\n",
              "      <td>[4.166666666666667, 0.0, 0.0, 4.2, 0.0, 4.5, 3...</td>\n",
              "      <td>3.934783</td>\n",
              "      <td>23</td>\n",
              "    </tr>\n",
              "    <tr>\n",
              "      <th>2</th>\n",
              "      <td>3</td>\n",
              "      <td>[2.5, 0.5, 0.5, 0.5, 4.333333333333333, 0.5, 0...</td>\n",
              "      <td>2.387097</td>\n",
              "      <td>31</td>\n",
              "    </tr>\n",
              "    <tr>\n",
              "      <th>3</th>\n",
              "      <td>4</td>\n",
              "      <td>[3.4782608695652173, 4.0, 3.7777777777777777, ...</td>\n",
              "      <td>3.485549</td>\n",
              "      <td>173</td>\n",
              "    </tr>\n",
              "    <tr>\n",
              "      <th>4</th>\n",
              "      <td>5</td>\n",
              "      <td>[3.1666666666666665, 4.25, 4.0, 3.363636363636...</td>\n",
              "      <td>3.600000</td>\n",
              "      <td>35</td>\n",
              "    </tr>\n",
              "  </tbody>\n",
              "</table>\n",
              "</div>"
            ],
            "text/plain": [
              "  userId                                        user_vector  avg_rating  \\\n",
              "0      1  [4.391891891891892, 4.6521739130434785, 4.4857...    4.376344   \n",
              "1      2  [4.166666666666667, 0.0, 0.0, 4.2, 0.0, 4.5, 3...    3.934783   \n",
              "2      3  [2.5, 0.5, 0.5, 0.5, 4.333333333333333, 0.5, 0...    2.387097   \n",
              "3      4  [3.4782608695652173, 4.0, 3.7777777777777777, ...    3.485549   \n",
              "4      5  [3.1666666666666665, 4.25, 4.0, 3.363636363636...    3.600000   \n",
              "\n",
              "  num_movies_rated  \n",
              "0              186  \n",
              "1               23  \n",
              "2               31  \n",
              "3              173  \n",
              "4               35  "
            ]
          },
          "execution_count": 13,
          "metadata": {
            "tags": []
          },
          "output_type": "execute_result"
        }
      ],
      "source": [
        "user_df.head()"
      ]
    },
    {
      "cell_type": "code",
      "execution_count": null,
      "metadata": {
        "colab": {},
        "colab_type": "code",
        "id": "LX8x9_iGE758",
        "outputId": "66e57c35-36c9-4189-c9b1-75c678330146"
      },
      "outputs": [
        {
          "data": {
            "text/html": [
              "<div>\n",
              "<style scoped>\n",
              "    .dataframe tbody tr th:only-of-type {\n",
              "        vertical-align: middle;\n",
              "    }\n",
              "\n",
              "    .dataframe tbody tr th {\n",
              "        vertical-align: top;\n",
              "    }\n",
              "\n",
              "    .dataframe thead th {\n",
              "        text-align: right;\n",
              "    }\n",
              "</style>\n",
              "<table border=\"1\" class=\"dataframe\">\n",
              "  <thead>\n",
              "    <tr style=\"text-align: right;\">\n",
              "      <th></th>\n",
              "      <th>userId</th>\n",
              "      <th>movieId</th>\n",
              "      <th>rating</th>\n",
              "      <th>timestamp</th>\n",
              "      <th>genres</th>\n",
              "      <th>tag</th>\n",
              "    </tr>\n",
              "  </thead>\n",
              "  <tbody>\n",
              "    <tr>\n",
              "      <th>0</th>\n",
              "      <td>1</td>\n",
              "      <td>3</td>\n",
              "      <td>4.0</td>\n",
              "      <td>964981247</td>\n",
              "      <td>[Comedy, Romance]</td>\n",
              "      <td>[]</td>\n",
              "    </tr>\n",
              "    <tr>\n",
              "      <th>1</th>\n",
              "      <td>1</td>\n",
              "      <td>163</td>\n",
              "      <td>5.0</td>\n",
              "      <td>964983650</td>\n",
              "      <td>[Action, Romance, Western]</td>\n",
              "      <td>[]</td>\n",
              "    </tr>\n",
              "    <tr>\n",
              "      <th>2</th>\n",
              "      <td>1</td>\n",
              "      <td>316</td>\n",
              "      <td>3.0</td>\n",
              "      <td>964982310</td>\n",
              "      <td>[Action, Adventure, Sci-Fi]</td>\n",
              "      <td>[]</td>\n",
              "    </tr>\n",
              "    <tr>\n",
              "      <th>3</th>\n",
              "      <td>1</td>\n",
              "      <td>349</td>\n",
              "      <td>4.0</td>\n",
              "      <td>964982563</td>\n",
              "      <td>[Action, Crime, Drama, Thriller]</td>\n",
              "      <td>[]</td>\n",
              "    </tr>\n",
              "    <tr>\n",
              "      <th>4</th>\n",
              "      <td>1</td>\n",
              "      <td>441</td>\n",
              "      <td>4.0</td>\n",
              "      <td>964980868</td>\n",
              "      <td>[Comedy]</td>\n",
              "      <td>[]</td>\n",
              "    </tr>\n",
              "  </tbody>\n",
              "</table>\n",
              "</div>"
            ],
            "text/plain": [
              "   userId  movieId  rating  timestamp                            genres tag\n",
              "0       1        3     4.0  964981247                 [Comedy, Romance]  []\n",
              "1       1      163     5.0  964983650        [Action, Romance, Western]  []\n",
              "2       1      316     3.0  964982310       [Action, Adventure, Sci-Fi]  []\n",
              "3       1      349     4.0  964982563  [Action, Crime, Drama, Thriller]  []\n",
              "4       1      441     4.0  964980868                          [Comedy]  []"
            ]
          },
          "execution_count": 14,
          "metadata": {
            "tags": []
          },
          "output_type": "execute_result"
        }
      ],
      "source": [
        "ratings_test = pd.read_csv(\"testing_data.csv\", converters={\"genres\": literal_eval, \"tag\": literal_eval}) \n",
        "ratings_test.head()"
      ]
    },
    {
      "cell_type": "markdown",
      "metadata": {
        "colab_type": "text",
        "id": "93wgYR1LE75-"
      },
      "source": [
        "### Next  few cells for sample test data point"
      ]
    },
    {
      "cell_type": "code",
      "execution_count": null,
      "metadata": {
        "colab": {},
        "colab_type": "code",
        "id": "s7bMkOXpE75-",
        "outputId": "72e0b289-0d00-400f-8bba-aaf988655437"
      },
      "outputs": [
        {
          "data": {
            "text/plain": [
              "userId                       1\n",
              "movieId                      3\n",
              "rating                       4\n",
              "timestamp            964981247\n",
              "genres       [Comedy, Romance]\n",
              "tag                         []\n",
              "Name: 0, dtype: object"
            ]
          },
          "execution_count": 15,
          "metadata": {
            "tags": []
          },
          "output_type": "execute_result"
        }
      ],
      "source": [
        "ratings_test.iloc[0]"
      ]
    },
    {
      "cell_type": "code",
      "execution_count": null,
      "metadata": {
        "colab": {},
        "colab_type": "code",
        "id": "xD0Lky29E76A",
        "outputId": "75a3cd13-d48c-496d-e42c-2bac76ee6950"
      },
      "outputs": [
        {
          "data": {
            "text/html": [
              "<div>\n",
              "<style scoped>\n",
              "    .dataframe tbody tr th:only-of-type {\n",
              "        vertical-align: middle;\n",
              "    }\n",
              "\n",
              "    .dataframe tbody tr th {\n",
              "        vertical-align: top;\n",
              "    }\n",
              "\n",
              "    .dataframe thead th {\n",
              "        text-align: right;\n",
              "    }\n",
              "</style>\n",
              "<table border=\"1\" class=\"dataframe\">\n",
              "  <thead>\n",
              "    <tr style=\"text-align: right;\">\n",
              "      <th></th>\n",
              "      <th>userId</th>\n",
              "      <th>movieId</th>\n",
              "      <th>rating</th>\n",
              "      <th>timestamp</th>\n",
              "      <th>genres</th>\n",
              "      <th>tag</th>\n",
              "    </tr>\n",
              "  </thead>\n",
              "  <tbody>\n",
              "    <tr>\n",
              "      <th>79628</th>\n",
              "      <td>610</td>\n",
              "      <td>6</td>\n",
              "      <td>5.0</td>\n",
              "      <td>1493850345</td>\n",
              "      <td>[Action, Crime, Thriller]</td>\n",
              "      <td>[]</td>\n",
              "    </tr>\n",
              "  </tbody>\n",
              "</table>\n",
              "</div>"
            ],
            "text/plain": [
              "       userId  movieId  rating   timestamp                     genres tag\n",
              "79628     610        6     5.0  1493850345  [Action, Crime, Thriller]  []"
            ]
          },
          "execution_count": 16,
          "metadata": {
            "tags": []
          },
          "output_type": "execute_result"
        }
      ],
      "source": [
        "user_rating_df[user_rating_df['movieId']==6]"
      ]
    },
    {
      "cell_type": "code",
      "execution_count": null,
      "metadata": {
        "colab": {},
        "colab_type": "code",
        "id": "6PZZJ09oE76G",
        "outputId": "5b878dd8-efd2-43b2-efa1-515972422bd1"
      },
      "outputs": [
        {
          "name": "stdout",
          "output_type": "stream",
          "text": [
            "[0. 0. 0. 0. 0. 0. 0. 1. 1. 1. 0. 0. 0. 0. 0. 0. 0. 0. 0. 0.]\n"
          ]
        }
      ],
      "source": [
        "genres = user_rating_df[user_rating_df['movieId']==6].genres.values[0]\n",
        "vector = np.zeros(len(genre_dict))\n",
        "for g in genres:\n",
        "    vector[genre_dict[g]] = 1\n",
        "print(vector)"
      ]
    },
    {
      "cell_type": "code",
      "execution_count": null,
      "metadata": {
        "colab": {},
        "colab_type": "code",
        "id": "bx4vq6KZE76I",
        "outputId": "ae235b28-cdfd-48f3-8aaa-3e08ffe6f9f8"
      },
      "outputs": [
        {
          "data": {
            "text/plain": [
              "array([4.39189189, 4.65217391, 4.48571429, 4.26760563, 4.24390244,\n",
              "       4.33333333, 4.53846154, 4.33333333, 4.39393939, 4.05      ,\n",
              "       3.58333333, 4.28571429, 4.19354839, 4.61111111, 4.63157895,\n",
              "       0.        , 0.        , 4.4       , 5.        , 0.        ])"
            ]
          },
          "execution_count": 18,
          "metadata": {
            "tags": []
          },
          "output_type": "execute_result"
        }
      ],
      "source": [
        "user_df[user_df['userId']==1].user_vector[0]"
      ]
    },
    {
      "cell_type": "code",
      "execution_count": null,
      "metadata": {
        "colab": {},
        "colab_type": "code",
        "id": "FD3esxqIE76K",
        "outputId": "43b0346e-5b23-42a3-9432-1e520347ac20",
        "scrolled": true
      },
      "outputs": [
        {
          "data": {
            "text/plain": [
              "4.259090909090909"
            ]
          },
          "execution_count": 19,
          "metadata": {
            "tags": []
          },
          "output_type": "execute_result"
        }
      ],
      "source": [
        "x = vector*user_df[user_df['userId']==1].user_vector[0]\n",
        "np.nanmean(np.where(x!=0,x,np.nan)) "
      ]
    },
    {
      "cell_type": "markdown",
      "metadata": {
        "colab_type": "text",
        "id": "Rjrj3u66E76M"
      },
      "source": [
        "### Test on entire test data"
      ]
    },
    {
      "cell_type": "code",
      "execution_count": null,
      "metadata": {
        "colab": {},
        "colab_type": "code",
        "id": "vhTae8OXE76M"
      },
      "outputs": [],
      "source": [
        "# Load the already calculated data from csvs\n",
        "# user_df = pd.read_csv(\"user_info.csv\", converters={\"user_vector\": pd.array})\n",
        "# movies_df = pd.read_csv(\"movie_vector.csv\", converters={\"movie_vector\": pd.array})"
      ]
    },
    {
      "cell_type": "code",
      "execution_count": null,
      "metadata": {
        "colab": {},
        "colab_type": "code",
        "id": "xez8u-JME76O"
      },
      "outputs": [],
      "source": [
        "algo_predictions = pd.DataFrame(columns=['userId', 'movieId', 'user_vector', 'movie_vector', 'og_rating', 'pred_rating'])\n",
        "for ind, row in ratings_test.iterrows():\n",
        "    userId = row['userId']\n",
        "    movieId = row['movieId']\n",
        "    og_rating = row['rating']\n",
        "#     print(userId)\n",
        "#     print(movieId)\n",
        "    \n",
        "    try:\n",
        "        user_vector = user_df[user_df['userId'] == int(userId)].user_vector.values[0]\n",
        "        movie_vector = movies[movies['movieId'] == int(movieId)].movie_vector.values[0]\n",
        "    #     print(user_vector)\n",
        "    #     print(movie_vector)\n",
        "\n",
        "        predicted_rating = user_vector*movie_vector\n",
        "    #     print(predicted_rating)\n",
        "        \n",
        "        if predicted_rating.any():\n",
        "            predicted_rating = np.nanmean(np.where(predicted_rating!=0, predicted_rating, np.nan)) \n",
        "    #     print(predicted_rating)\n",
        "        else:\n",
        "            predicted_rating = 0\n",
        "\n",
        "        row_df = pd.DataFrame([[userId, movieId, user_vector, movie_vector, og_rating, predicted_rating]], \n",
        "                    columns=['userId', 'movieId', 'user_vector', 'movie_vector', 'og_rating', 'pred_rating'])\n",
        "        algo_predictions = pd.concat([algo_predictions, row_df], ignore_index=True)\n",
        "    except:\n",
        "        print(\"User not found: \", userId)"
      ]
    },
    {
      "cell_type": "code",
      "execution_count": null,
      "metadata": {
        "colab": {},
        "colab_type": "code",
        "id": "kX92i_TbE76Q",
        "outputId": "35c02977-8068-45b8-c97d-75b2d4dba239"
      },
      "outputs": [
        {
          "data": {
            "text/plain": [
              "0.9185496972723388"
            ]
          },
          "execution_count": 53,
          "metadata": {
            "tags": []
          },
          "output_type": "execute_result"
        }
      ],
      "source": [
        "rmse = ((algo_predictions.og_rating - algo_predictions.pred_rating) ** 2).mean() ** .5\n",
        "rmse"
      ]
    },
    {
      "cell_type": "code",
      "execution_count": null,
      "metadata": {
        "colab": {},
        "colab_type": "code",
        "id": "9y_KEqI8E76T",
        "outputId": "4727793c-cfe7-4c55-c89b-90803057d1e1"
      },
      "outputs": [
        {
          "data": {
            "text/plain": [
              "0.7095402988159346"
            ]
          },
          "execution_count": 54,
          "metadata": {
            "tags": []
          },
          "output_type": "execute_result"
        }
      ],
      "source": [
        "mae = (((algo_predictions.og_rating - algo_predictions.pred_rating) ** 2) ** .5).mean()\n",
        "mae"
      ]
    }
  ],
  "metadata": {
    "colab": {
      "collapsed_sections": [],
      "name": "content_based_recommendation.ipynb",
      "provenance": []
    },
    "kernelspec": {
      "display_name": "Python 3",
      "language": "python",
      "name": "python3"
    },
    "language_info": {
      "codemirror_mode": {
        "name": "ipython",
        "version": 3
      },
      "file_extension": ".py",
      "mimetype": "text/x-python",
      "name": "python",
      "nbconvert_exporter": "python",
      "pygments_lexer": "ipython3",
      "version": "3.10.11"
    }
  },
  "nbformat": 4,
  "nbformat_minor": 0
}
