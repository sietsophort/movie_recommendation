{
  "cells": [
    {
      "cell_type": "markdown",
      "metadata": {
        "colab_type": "text",
        "id": "6IBmQTfmBf2k"
      },
      "source": [
        "This notebook combines the individual model's rating to form a unified model which performs better. The ratings from individual models are combined using a weighted linear combination to form a resultant rating. This method helps overcome the shortcomings of individual method. \\\\\n",
        "The ratings are those generated using surprise library."
      ]
    },
    {
      "cell_type": "code",
      "execution_count": null,
      "metadata": {
        "colab": {},
        "colab_type": "code",
        "id": "fRRCvSdKBeX_"
      },
      "outputs": [],
      "source": [
        "import pandas as pd\n",
        "import numpy as np\n",
        "import math"
      ]
    },
    {
      "cell_type": "code",
      "execution_count": null,
      "metadata": {
        "colab": {
          "base_uri": "https://localhost:8080/",
          "height": 195
        },
        "colab_type": "code",
        "id": "NBUye_PbsZdg",
        "outputId": "b9048120-dea6-4485-f0b9-118915146f4b"
      },
      "outputs": [
        {
          "data": {
            "text/html": [
              "<div>\n",
              "<style scoped>\n",
              "    .dataframe tbody tr th:only-of-type {\n",
              "        vertical-align: middle;\n",
              "    }\n",
              "\n",
              "    .dataframe tbody tr th {\n",
              "        vertical-align: top;\n",
              "    }\n",
              "\n",
              "    .dataframe thead th {\n",
              "        text-align: right;\n",
              "    }\n",
              "</style>\n",
              "<table border=\"1\" class=\"dataframe\">\n",
              "  <thead>\n",
              "    <tr style=\"text-align: right;\">\n",
              "      <th></th>\n",
              "      <th>Unnamed: 0</th>\n",
              "      <th>uid</th>\n",
              "      <th>iid</th>\n",
              "      <th>og_rating</th>\n",
              "      <th>svd_rating</th>\n",
              "      <th>knn_rating</th>\n",
              "      <th>svdpp_rating</th>\n",
              "      <th>slopeone_rating</th>\n",
              "      <th>baseline_rating</th>\n",
              "    </tr>\n",
              "  </thead>\n",
              "  <tbody>\n",
              "    <tr>\n",
              "      <th>0</th>\n",
              "      <td>0</td>\n",
              "      <td>610</td>\n",
              "      <td>163981</td>\n",
              "      <td>3.5</td>\n",
              "      <td>3.571637</td>\n",
              "      <td>3.603256</td>\n",
              "      <td>3.538527</td>\n",
              "      <td>3.501078</td>\n",
              "      <td>3.603256</td>\n",
              "    </tr>\n",
              "    <tr>\n",
              "      <th>1</th>\n",
              "      <td>1</td>\n",
              "      <td>610</td>\n",
              "      <td>162350</td>\n",
              "      <td>3.5</td>\n",
              "      <td>3.430078</td>\n",
              "      <td>3.517200</td>\n",
              "      <td>3.323570</td>\n",
              "      <td>2.752871</td>\n",
              "      <td>3.601820</td>\n",
              "    </tr>\n",
              "    <tr>\n",
              "      <th>2</th>\n",
              "      <td>2</td>\n",
              "      <td>610</td>\n",
              "      <td>161582</td>\n",
              "      <td>4.0</td>\n",
              "      <td>3.715722</td>\n",
              "      <td>4.025055</td>\n",
              "      <td>3.836845</td>\n",
              "      <td>4.253110</td>\n",
              "      <td>3.760107</td>\n",
              "    </tr>\n",
              "    <tr>\n",
              "      <th>3</th>\n",
              "      <td>3</td>\n",
              "      <td>610</td>\n",
              "      <td>159093</td>\n",
              "      <td>3.0</td>\n",
              "      <td>3.889187</td>\n",
              "      <td>3.717144</td>\n",
              "      <td>3.499436</td>\n",
              "      <td>3.737276</td>\n",
              "      <td>3.728456</td>\n",
              "    </tr>\n",
              "    <tr>\n",
              "      <th>4</th>\n",
              "      <td>4</td>\n",
              "      <td>610</td>\n",
              "      <td>156726</td>\n",
              "      <td>4.5</td>\n",
              "      <td>3.209341</td>\n",
              "      <td>3.863298</td>\n",
              "      <td>3.004246</td>\n",
              "      <td>1.850029</td>\n",
              "      <td>3.439723</td>\n",
              "    </tr>\n",
              "  </tbody>\n",
              "</table>\n",
              "</div>"
            ],
            "text/plain": [
              "   Unnamed: 0  uid     iid  ...  svdpp_rating  slopeone_rating  baseline_rating\n",
              "0           0  610  163981  ...      3.538527         3.501078         3.603256\n",
              "1           1  610  162350  ...      3.323570         2.752871         3.601820\n",
              "2           2  610  161582  ...      3.836845         4.253110         3.760107\n",
              "3           3  610  159093  ...      3.499436         3.737276         3.728456\n",
              "4           4  610  156726  ...      3.004246         1.850029         3.439723\n",
              "\n",
              "[5 rows x 9 columns]"
            ]
          },
          "execution_count": 2,
          "metadata": {
            "tags": []
          },
          "output_type": "execute_result"
        }
      ],
      "source": [
        "pred_data = pd.read_csv('test_prediction_HP.csv')\n",
        "pred_data.head() "
      ]
    },
    {
      "cell_type": "code",
      "execution_count": null,
      "metadata": {
        "colab": {},
        "colab_type": "code",
        "id": "Uc2p2jUlSLJC"
      },
      "outputs": [],
      "source": [
        "# pred_data = pred_data.drop(169639)"
      ]
    },
    {
      "cell_type": "code",
      "execution_count": null,
      "metadata": {
        "colab": {
          "base_uri": "https://localhost:8080/",
          "height": 34
        },
        "colab_type": "code",
        "id": "a9zxxdMpRSSv",
        "outputId": "6513a5da-0d2d-4f34-80cf-4d006d57df72"
      },
      "outputs": [
        {
          "name": "stdout",
          "output_type": "stream",
          "text": [
            "20168\n"
          ]
        }
      ],
      "source": [
        "# num of rows:\n",
        "T = pred_data.shape[0]\n",
        "print(T)"
      ]
    },
    {
      "cell_type": "code",
      "execution_count": null,
      "metadata": {
        "colab": {},
        "colab_type": "code",
        "id": "kqfVFGZ8sxLg"
      },
      "outputs": [],
      "source": [
        "svd_wt = 0.05\n",
        "knn_wt = 0.6\n",
        "svdpp_wt = 0.4\n",
        "slopeone_wt = 0\n",
        "baseline_wt = 0"
      ]
    },
    {
      "cell_type": "code",
      "execution_count": null,
      "metadata": {
        "colab": {
          "base_uri": "https://localhost:8080/",
          "height": 50
        },
        "colab_type": "code",
        "id": "5lWF0bq2OhV9",
        "outputId": "04f216b1-c95a-400a-9599-2c1044bfcaad"
      },
      "outputs": [
        {
          "name": "stdout",
          "output_type": "stream",
          "text": [
            "0.8527048407985283\n",
            "0.64818310503639\n"
          ]
        }
      ],
      "source": [
        "rmse = ((pred_data.og_rating - pred_data.knn_rating) ** 2).mean() ** .5\n",
        "print(rmse)\n",
        "mae = (((pred_data.og_rating - pred_data.knn_rating) ** 2) ** .5).mean()\n",
        "print(mae)"
      ]
    },
    {
      "cell_type": "code",
      "execution_count": null,
      "metadata": {
        "colab": {
          "base_uri": "https://localhost:8080/",
          "height": 50
        },
        "colab_type": "code",
        "id": "oxcquF0lQOVa",
        "outputId": "cfe99592-5a54-4ade-c80f-a5f58817f727"
      },
      "outputs": [
        {
          "name": "stdout",
          "output_type": "stream",
          "text": [
            "0.8668435463304792\n",
            "0.6611243052231001\n"
          ]
        }
      ],
      "source": [
        "rmse = ((pred_data.og_rating - pred_data.svdpp_rating) ** 2).mean() ** .5\n",
        "print(rmse)\n",
        "mae = (((pred_data.og_rating - pred_data.svdpp_rating) ** 2) ** .5).mean()\n",
        "print(mae)"
      ]
    },
    {
      "cell_type": "code",
      "execution_count": null,
      "metadata": {
        "colab": {
          "base_uri": "https://localhost:8080/",
          "height": 50
        },
        "colab_type": "code",
        "id": "IEcpZCbBLTCS",
        "outputId": "a9b0788a-8986-487a-ecae-9d1583d3d51b"
      },
      "outputs": [
        {
          "name": "stdout",
          "output_type": "stream",
          "text": [
            "RMSE 0.8440081164615088\n",
            "MAE 0.6426598370928285\n"
          ]
        }
      ],
      "source": [
        "sqr_sum = 0\n",
        "abs_sum = 0\n",
        "\n",
        "for ind, row in pred_data.iterrows():\n",
        "  org_r = row['og_rating']\n",
        "  pred_r = svd_wt*row['svd_rating'] + knn_wt*row['knn_rating'] + svdpp_wt*row['svdpp_rating'] + slopeone_wt*row['slopeone_rating'] + baseline_wt*row['baseline_rating']\n",
        "  diff = np.abs(org_r - pred_r)\n",
        "  # print(diff)\n",
        "  abs_sum += diff\n",
        "  sqr_sum += diff**2\n",
        "rmse = np.sqrt(sqr_sum/T)\n",
        "print(\"RMSE\", rmse)\n",
        "mae = abs_sum/T\n",
        "print(\"MAE\", mae)"
      ]
    }
  ],
  "metadata": {
    "colab": {
      "collapsed_sections": [],
      "name": "combined_model.ipynb",
      "provenance": []
    },
    "kernelspec": {
      "display_name": "Python 3",
      "name": "python3"
    }
  },
  "nbformat": 4,
  "nbformat_minor": 0
}
